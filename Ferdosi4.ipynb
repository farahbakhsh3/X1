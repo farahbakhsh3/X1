{
 "cells": [
  {
   "cell_type": "code",
   "execution_count": null,
   "metadata": {
    "colab": {
     "base_uri": "https://localhost:8080/",
     "height": 717
    },
    "colab_type": "code",
    "id": "CBfckJ7Rj_UQ",
    "outputId": "4f860294-4198-4cd6-ea0a-66318e03f74b"
   },
   "outputs": [],
   "source": [
    "# !wget https://www.dropbox.com/s/laax0sxqzzlddtq/ferdosi.txt\n",
    "# !wget https://www.dropbox.com/s/ripsc7hfc0nihy5/test.txt"
   ]
  },
  {
   "cell_type": "code",
   "execution_count": null,
   "metadata": {
    "colab": {
     "base_uri": "https://localhost:8080/",
     "height": 34
    },
    "colab_type": "code",
    "id": "fhg9DmgqjwML",
    "outputId": "ae1705df-3017-4ec0-dc84-8ae17d2e004d"
   },
   "outputs": [],
   "source": [
    "import random\n",
    " \n",
    "import numpy as np\n",
    "from keras.models import Sequential\n",
    "from keras.layers import Embedding, Dense, Dropout\n",
    "from keras.layers import LSTM, GRU, CuDNNGRU, CuDNNLSTM \n",
    "from keras.optimizers import RMSprop\n",
    "from keras.callbacks import LambdaCallback\n",
    "\n",
    "from keras.preprocessing.text import Tokenizer, text_to_word_sequence\n",
    "from keras.preprocessing.sequence import pad_sequences\n",
    "from keras.preprocessing.text import text_to_word_sequence\n",
    "\n",
    "from keras.losses import categorical_crossentropy\n",
    "from keras.utils import to_categorical\n",
    "\n",
    "import tensorflow as tf\n",
    "import os"
   ]
  },
  {
   "cell_type": "code",
   "execution_count": null,
   "metadata": {},
   "outputs": [],
   "source": [
    "# TPU_WORKER = 'grpc://' + os.environ['COLAB_TPU_ADDR']"
   ]
  },
  {
   "cell_type": "code",
   "execution_count": null,
   "metadata": {
    "colab": {
     "base_uri": "https://localhost:8080/",
     "height": 34
    },
    "colab_type": "code",
    "id": "aIIF4NrDjwMf",
    "outputId": "95466266-8770-43fa-9c64-a963026f2d11"
   },
   "outputs": [],
   "source": [
    "path = './ferdosi.txt'\n",
    "with open(path, encoding='utf-8') as f:\n",
    "    texts = f.read()\n",
    "\n",
    "beits = texts.split('\\n')\n",
    "# texts = texts.split('\\n')\n",
    "texts = texts.replace('\\n', ' ــ ')\n",
    "texts = texts.split(' ')\n",
    "# texts = text_to_word_sequence(texts)\n",
    "\n",
    "print('corpus length:', len(texts))"
   ]
  },
  {
   "cell_type": "code",
   "execution_count": null,
   "metadata": {},
   "outputs": [],
   "source": [
    "texts[:10]"
   ]
  },
  {
   "cell_type": "code",
   "execution_count": null,
   "metadata": {
    "colab": {
     "base_uri": "https://localhost:8080/",
     "height": 34
    },
    "colab_type": "code",
    "id": "HiCtlwDejwMp",
    "outputId": "6d0848ff-2d29-40ef-f9d4-09b2f6f51633"
   },
   "outputs": [],
   "source": [
    "max_length = 6\n",
    "embeding_dim = 32\n",
    "step = 1\n",
    "\n",
    "\n",
    "tokenizer = Tokenizer()\n",
    "tokenizer.fit_on_texts(texts)\n",
    "sequences = tokenizer.texts_to_sequences(texts)\n",
    "sequences = [sequences[i][0] for i in range(len(sequences)-1)]\n",
    "\n",
    "word_index = tokenizer.word_index\n",
    "print('Found %s unique tokens.' % len(word_index))\n",
    "\n",
    "len_of_words = len(word_index)\n",
    "word2idx = word_index\n",
    "idx2word = dict([(value, key) for (key, value) in word_index.items()])\n",
    "\n",
    "# paded_sequences = pad_sequences(sequences, maxlen=max_length)\n",
    "# paded_sequences = [paded_sequences[i][0] for i in range(len(paded_sequences)-1)]"
   ]
  },
  {
   "cell_type": "code",
   "execution_count": null,
   "metadata": {},
   "outputs": [],
   "source": [
    "sequences[:10]"
   ]
  },
  {
   "cell_type": "code",
   "execution_count": null,
   "metadata": {
    "colab": {
     "base_uri": "https://localhost:8080/",
     "height": 34
    },
    "colab_type": "code",
    "id": "6fitDBtHjwMz",
    "outputId": "440f0501-aedb-4119-9755-5c92a998cad6"
   },
   "outputs": [],
   "source": [
    "\n",
    "sentences = []\n",
    "next_word = []\n",
    "for i in range(0, len(sequences) - max_length, step):\n",
    "    sentences.append(sequences[i: i + max_length])\n",
    "    next_word.append(sequences[i + max_length])\n",
    "print('nb sequences:', len(sequences))"
   ]
  },
  {
   "cell_type": "code",
   "execution_count": null,
   "metadata": {
    "colab": {
     "base_uri": "https://localhost:8080/",
     "height": 221
    },
    "colab_type": "code",
    "id": "qoR78UsYjwNG",
    "outputId": "953da7e2-cac0-4cba-81d1-6194bb5ca87d"
   },
   "outputs": [],
   "source": [
    "for ii in range(3):\n",
    "\n",
    "    print(sentences[ii])\n",
    "    print([idx2word.get(i, '') for i in sentences[ii]])\n",
    "\n",
    "    print(next_word[ii])\n",
    "    print(idx2word[next_word[ii]])\n"
   ]
  },
  {
   "cell_type": "code",
   "execution_count": null,
   "metadata": {
    "colab": {},
    "colab_type": "code",
    "id": "j5i6q3Y_jwN8"
   },
   "outputs": [],
   "source": [
    "x = np.array(sentences)\n",
    "y = np.array(next_word)\n",
    "# y = to_categorical(y)"
   ]
  },
  {
   "cell_type": "code",
   "execution_count": null,
   "metadata": {
    "colab": {},
    "colab_type": "code",
    "id": "es4d-YfljwOU"
   },
   "outputs": [],
   "source": [
    "def on_epoch_end(epoch, _):\n",
    "#     if epoch % 10 != 0:\n",
    "#         return\n",
    "    \n",
    "    start_index = random.randint(0, len(beits) - 1)\n",
    "    for diversity in [1.0]:\n",
    "        print('----- diversity:', diversity)\n",
    "\n",
    "        sentence = beits[start_index]\n",
    "        print(sentence)\n",
    "        generated = sentence\n",
    "        print('----- Generating with seed: \"' + sentence + '\"')\n",
    "        for i in range(max_length * 10):\n",
    "            x_pred = np.zeros((1, max_length), dtype=int)\n",
    "            for t, word in enumerate(sentence.split(' ')):\n",
    "                try:\n",
    "#                     print(t, word)\n",
    "                    x_pred[0, t] = word2idx[word]\n",
    "                except:\n",
    "                    pass\n",
    "\n",
    "            preds = model.predict(x_pred, verbose=0)[0]\n",
    "            pred_id = sample(preds, diversity)\n",
    "            next_word = idx2word[pred_id]\n",
    "\n",
    "            generated = generated + ' ' + next_word\n",
    "            sentence = ' '.join(sentence.split(' ')[1:])\n",
    "            sentence = sentence + ' ' + next_word\n",
    "\n",
    "        print(generated.replace('ــ', '\\n'))"
   ]
  },
  {
   "cell_type": "code",
   "execution_count": null,
   "metadata": {
    "colab": {},
    "colab_type": "code",
    "id": "Ocv8HVeAjwOq"
   },
   "outputs": [],
   "source": [
    "def sample(preds, temperature=1.0):\n",
    "    # helper function to sample an index from a probability array\n",
    "    preds = np.asarray(preds).astype('float64')\n",
    "    preds = np.log(preds) / temperature\n",
    "    exp_preds = np.exp(preds)\n",
    "    preds = exp_preds / np.sum(exp_preds)\n",
    "    probas = np.random.multinomial(1, preds, 1)\n",
    "    return np.argmax(probas)"
   ]
  },
  {
   "cell_type": "code",
   "execution_count": null,
   "metadata": {},
   "outputs": [],
   "source": [
    "# model = models.Sequential()\n",
    "# model.add(layers.Embedding(len(word_index), 100))\n",
    "# model.add(layers.LSTM(128))\n",
    "# model.add(layers.Dense(1, activation='sigmoid'))\n",
    "\n",
    "# model.compile(optimizer='rmsprop', loss='binary_crossentropy', metrics=['accuracy'])\n",
    "\n",
    "\n",
    "model = Sequential()\n",
    "model.add(Embedding(len_of_words, embeding_dim))\n",
    "if tf.test.is_gpu_available():\n",
    "    # model.add(CuDNNGRU(256, return_sequences=True))\n",
    "    model.add(CuDNNGRU(256))\n",
    "else:\n",
    "    model.add(GRU(256))\n",
    "model.add(Dense(len_of_words, activation='softmax'))\n",
    " \n",
    "model.compile(optimizer=RMSprop(0.01),\n",
    "              loss='sparse_categorical_crossentropy',\n",
    "              metrics=['accuracy'])\n",
    " \n",
    "print(model.summary())\n",
    "print_callback = LambdaCallback(on_epoch_end=on_epoch_end)"
   ]
  },
  {
   "cell_type": "code",
   "execution_count": null,
   "metadata": {},
   "outputs": [],
   "source": [
    "\n",
    "# strategy = tf.contrib.tpu.TPUDistributionStrategy(tf.contrib.cluster_resolver.TPUClusterResolver(TPU_WORKER))\n",
    "# model = tf.contrib.tpu.keras_to_tpu_model(model, strategy=strategy)\n"
   ]
  },
  {
   "cell_type": "code",
   "execution_count": null,
   "metadata": {
    "colab": {
     "base_uri": "https://localhost:8080/",
     "height": 629
    },
    "colab_type": "code",
    "id": "UDNdT_VEjwO7",
    "outputId": "ec080bac-951f-4efc-b44d-31c7509683b6"
   },
   "outputs": [],
   "source": [
    "\n",
    "history = model.fit(x=x, y=y, epochs=60, batch_size=128, callbacks=[print_callback])\n"
   ]
  },
  {
   "cell_type": "code",
   "execution_count": null,
   "metadata": {
    "colab": {},
    "colab_type": "code",
    "id": "7BdooMAYjwPP"
   },
   "outputs": [],
   "source": []
  },
  {
   "cell_type": "code",
   "execution_count": null,
   "metadata": {
    "colab": {},
    "colab_type": "code",
    "id": "lLqOA0YojwPY"
   },
   "outputs": [],
   "source": []
  }
 ],
 "metadata": {
  "kernelspec": {
   "display_name": "Python 3",
   "language": "python",
   "name": "python3"
  },
  "language_info": {
   "codemirror_mode": {
    "name": "ipython",
    "version": 3
   },
   "file_extension": ".py",
   "mimetype": "text/x-python",
   "name": "python",
   "nbconvert_exporter": "python",
   "pygments_lexer": "ipython3",
   "version": "3.6.5"
  }
 },
 "nbformat": 4,
 "nbformat_minor": 2
}
