{
  "nbformat": 4,
  "nbformat_minor": 0,
  "metadata": {
    "colab": {
      "name": "Ferdosi4.ipynb",
      "version": "0.3.2",
      "provenance": [],
      "toc_visible": true,
      "include_colab_link": true
    },
    "kernelspec": {
      "name": "python3",
      "display_name": "Python 3"
    },
    "accelerator": "GPU"
  },
  "cells": [
    {
      "cell_type": "markdown",
      "metadata": {
        "id": "view-in-github",
        "colab_type": "text"
      },
      "source": [
        "[View in Colaboratory](https://colab.research.google.com/github/farahbakhsh3/X1/blob/master/Ferdosi4.ipynb)"
      ]
    },
    {
      "metadata": {
        "colab_type": "code",
        "id": "CBfckJ7Rj_UQ",
        "colab": {}
      },
      "cell_type": "code",
      "source": [
        "# !wget https://www.dropbox.com/s/laax0sxqzzlddtq/ferdosi.txt\n",
        "# !wget https://www.dropbox.com/s/ripsc7hfc0nihy5/test.txt"
      ],
      "execution_count": 0,
      "outputs": []
    },
    {
      "metadata": {
        "colab_type": "code",
        "id": "fhg9DmgqjwML",
        "colab": {}
      },
      "cell_type": "code",
      "source": [
        "import random\n",
        " \n",
        "import numpy as np\n",
        "from keras.models import Sequential\n",
        "from keras.layers import Embedding, Dense, Dropout\n",
        "from keras.layers import LSTM, GRU, CuDNNGRU, CuDNNLSTM \n",
        "from keras.optimizers import RMSprop\n",
        "from keras.callbacks import LambdaCallback\n",
        "\n",
        "from keras.preprocessing.text import Tokenizer, text_to_word_sequence\n",
        "from keras.preprocessing.sequence import pad_sequences\n",
        "from keras.preprocessing.text import text_to_word_sequence\n",
        "\n",
        "from keras.losses import categorical_crossentropy\n",
        "from keras.utils import to_categorical\n",
        "\n",
        "import tensorflow as tf"
      ],
      "execution_count": 0,
      "outputs": []
    },
    {
      "metadata": {
        "colab_type": "code",
        "id": "aIIF4NrDjwMf",
        "colab": {}
      },
      "cell_type": "code",
      "source": [
        "path = './ferdosi.txt'\n",
        "with open(path, encoding='utf-8') as f:\n",
        "    texts = f.read()\n",
        "\n",
        "beits = texts.split('\\n')\n",
        "# texts = texts.split('\\n')\n",
        "texts = texts.replace('\\n', 'ــ ')\n",
        "texts = texts.split(' ')\n",
        "# texts = text_to_word_sequence(texts)\n",
        "\n",
        "print('corpus length:', len(texts))"
      ],
      "execution_count": 0,
      "outputs": []
    },
    {
      "metadata": {
        "colab_type": "code",
        "id": "HiCtlwDejwMp",
        "colab": {}
      },
      "cell_type": "code",
      "source": [
        "max_length = 8\n",
        "embeding_dim = 100\n",
        "step = 1\n",
        "\n",
        "\n",
        "tokenizer = Tokenizer()\n",
        "tokenizer.fit_on_texts(texts)\n",
        "sequences = tokenizer.texts_to_sequences(texts)\n",
        "sequences = [sequences[i][0] for i in range(len(sequences)-1)]\n",
        "\n",
        "word_index = tokenizer.word_index\n",
        "print('Found %s unique tokens.' % len(word_index))\n",
        "\n",
        "len_of_words = len(word_index)\n",
        "word2idx = word_index\n",
        "idx2word = dict([(value, key) for (key, value) in word_index.items()])\n",
        "\n",
        "# paded_sequences = pad_sequences(sequences, maxlen=max_length)\n",
        "# paded_sequences = [paded_sequences[i][0] for i in range(len(paded_sequences)-1)]"
      ],
      "execution_count": 0,
      "outputs": []
    },
    {
      "metadata": {
        "colab_type": "code",
        "id": "6fitDBtHjwMz",
        "colab": {}
      },
      "cell_type": "code",
      "source": [
        "\n",
        "sentences = []\n",
        "next_word = []\n",
        "for i in range(0, len(sequences) - max_length, step):\n",
        "    sentences.append(sequences[i: i + max_length])\n",
        "    next_word.append(sequences[i + max_length])\n",
        "print('nb sentences:', len(sentences))\n",
        "print('nb next_word:', len(next_word))"
      ],
      "execution_count": 0,
      "outputs": []
    },
    {
      "metadata": {
        "colab_type": "code",
        "id": "qoR78UsYjwNG",
        "colab": {}
      },
      "cell_type": "code",
      "source": [
        "for ii in range(3):\n",
        "\n",
        "    print(sentences[ii])\n",
        "    print([idx2word.get(i, '') for i in sentences[ii]])\n",
        "\n",
        "    print(next_word[ii])\n",
        "    print(idx2word[next_word[ii]])\n"
      ],
      "execution_count": 0,
      "outputs": []
    },
    {
      "metadata": {
        "colab_type": "code",
        "id": "j5i6q3Y_jwN8",
        "colab": {}
      },
      "cell_type": "code",
      "source": [
        "x = np.array(sentences)\n",
        "y = np.array(next_word)\n",
        "# y = to_categorical(y)"
      ],
      "execution_count": 0,
      "outputs": []
    },
    {
      "metadata": {
        "colab_type": "code",
        "id": "es4d-YfljwOU",
        "colab": {}
      },
      "cell_type": "code",
      "source": [
        "def on_epoch_end(epoch, _):\n",
        "#     if epoch % 10 != 0:\n",
        "#         return\n",
        "    \n",
        "    start_index = random.randint(0, len(beits) - 1)\n",
        "    for diversity in [1.0]:\n",
        "        print('----- diversity:', diversity)\n",
        "\n",
        "        sentence = beits[start_index] + 'ــ'\n",
        "        print(sentence)\n",
        "        generated = sentence\n",
        "        print('----- Generating with seed: \"' + sentence + '\"')\n",
        "        for i in range(max_length * 10):\n",
        "            x_pred = np.zeros((1, max_length), dtype=int)\n",
        "            for t, word in enumerate(sentence.split(' ')[:max_length]):\n",
        "                try:\n",
        "#                     print(t, word)\n",
        "                    x_pred[0, t] = word2idx[word]\n",
        "                except:\n",
        "                    pass\n",
        "\n",
        "            preds = model.predict(x_pred, verbose=0)[0]\n",
        "            pred_id = sample(preds, diversity)\n",
        "            next_word = idx2word[pred_id]\n",
        "\n",
        "            generated = generated + ' ' + next_word\n",
        "            sentence = ' '.join(sentence.split(' ')[1:])\n",
        "            sentence = sentence + ' ' + next_word\n",
        "\n",
        "        print(generated.replace('ــ', '\\n'))"
      ],
      "execution_count": 0,
      "outputs": []
    },
    {
      "metadata": {
        "colab_type": "code",
        "id": "Ocv8HVeAjwOq",
        "colab": {}
      },
      "cell_type": "code",
      "source": [
        "def sample(preds, temperature=1.0):\n",
        "    # helper function to sample an index from a probability array\n",
        "    preds = np.asarray(preds).astype('float64')\n",
        "    preds = np.log(preds) / temperature\n",
        "    exp_preds = np.exp(preds)\n",
        "    preds = exp_preds / np.sum(exp_preds)\n",
        "    probas = np.random.multinomial(1, preds, 1)\n",
        "    return np.argmax(probas)"
      ],
      "execution_count": 0,
      "outputs": []
    },
    {
      "metadata": {
        "id": "MtwNGY_FGHrW",
        "colab_type": "code",
        "colab": {}
      },
      "cell_type": "code",
      "source": [
        "# model = models.Sequential()\n",
        "# model.add(layers.Embedding(len(word_index), 100))\n",
        "# model.add(layers.LSTM(128))\n",
        "# model.add(layers.Dense(1, activation='sigmoid'))\n",
        "\n",
        "# model.compile(optimizer='rmsprop', loss='binary_crossentropy', metrics=['accuracy'])\n",
        "\n",
        "\n",
        "\n",
        "model = Sequential()\n",
        "model.add(Embedding(len_of_words, embeding_dim, input_length=max_length))\n",
        "if tf.test.is_gpu_available():\n",
        "#     model.add(CuDNNGRU(512, return_sequences=True))\n",
        "    model.add(CuDNNGRU(256))\n",
        "else:\n",
        "    model.add(GRU(256))\n",
        "model.add(Dense(len_of_words, activation='softmax'))\n",
        " \n",
        "model.compile(optimizer=RMSprop(0.01),\n",
        "              loss='sparse_categorical_crossentropy',\n",
        "              metrics=['accuracy'])\n",
        " \n",
        "print(model.summary())\n",
        "print_callback = LambdaCallback(on_epoch_end=on_epoch_end)\n"
      ],
      "execution_count": 0,
      "outputs": []
    },
    {
      "metadata": {
        "colab_type": "code",
        "id": "UDNdT_VEjwO7",
        "colab": {}
      },
      "cell_type": "code",
      "source": [
        "\n",
        "history = model.fit(x=x, y=y, epochs=150, batch_size=128, callbacks=[print_callback], validation_split=0.1)\n"
      ],
      "execution_count": 0,
      "outputs": []
    },
    {
      "metadata": {
        "colab_type": "code",
        "id": "7BdooMAYjwPP",
        "colab": {}
      },
      "cell_type": "code",
      "source": [
        "import matplotlib.pyplot as plt"
      ],
      "execution_count": 0,
      "outputs": []
    },
    {
      "metadata": {
        "colab_type": "code",
        "id": "lLqOA0YojwPY",
        "colab": {}
      },
      "cell_type": "code",
      "source": [
        "history_dict = history.history\n",
        "\n",
        "loss_values = history_dict['loss']\n",
        "val_loss_values = history_dict['val_loss']\n",
        "acc_values = history_dict['acc']\n",
        "val_acc_values = history_dict['val_acc']\n",
        "\n",
        "epochs = range(1, len(loss_values) + 1)\n",
        "\n",
        "plt.plot(epochs, loss_values, 'bo', label='Training Loss')\n",
        "plt.plot(epochs, val_loss_values, 'b', label='Validation Loss')\n",
        "plt.plot(epochs, acc_values, 'ro', label='Training acc')\n",
        "plt.plot(epochs, val_acc_values, 'r', label='Validation acc')\n",
        "plt.title('Training & Validation Loss - acc')\n",
        "plt.xlabel('Epochs')\n",
        "plt.ylabel('Loss - acc')\n",
        "plt.legend()\n",
        "plt.show()"
      ],
      "execution_count": 0,
      "outputs": []
    },
    {
      "metadata": {
        "id": "g5J8M0pHmCn5",
        "colab_type": "code",
        "colab": {}
      },
      "cell_type": "code",
      "source": [
        ""
      ],
      "execution_count": 0,
      "outputs": []
    }
  ]
}