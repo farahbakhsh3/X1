{
  "nbformat": 4,
  "nbformat_minor": 0,
  "metadata": {
    "colab": {
      "name": "Ferdosi2.ipynb",
      "version": "0.3.2",
      "provenance": [],
      "include_colab_link": true
    },
    "kernelspec": {
      "name": "python3",
      "display_name": "Python 3"
    },
    "accelerator": "GPU"
  },
  "cells": [
    {
      "cell_type": "markdown",
      "metadata": {
        "id": "view-in-github",
        "colab_type": "text"
      },
      "source": [
        "[![Open In Colab](https://colab.research.google.com/assets/colab-badge.svg)](https://colab.research.google.com/github/farahbakhsh3/X1/blob/master/Ferdosi2.ipynb)"
      ]
    },
    {
      "metadata": {
        "id": "8fuywjL0reFU",
        "colab_type": "code",
        "colab": {
          "base_uri": "https://localhost:8080/",
          "height": 377
        },
        "outputId": "d8317500-44a4-4213-9afb-3665ad858991"
      },
      "cell_type": "code",
      "source": [
        "# !wget https://www.dropbox.com/s/laax0sxqzzlddtq/ferdosi.txt"
      ],
      "execution_count": 6,
      "outputs": [
        {
          "output_type": "stream",
          "text": [
            "--2018-10-16 21:05:07--  https://www.dropbox.com/s/laax0sxqzzlddtq/ferdosi.txt\n",
            "Resolving www.dropbox.com (www.dropbox.com)... 162.125.65.1, 2620:100:6021:1::a27d:4101\n",
            "Connecting to www.dropbox.com (www.dropbox.com)|162.125.65.1|:443... connected.\n",
            "HTTP request sent, awaiting response... 301 Moved Permanently\n",
            "Location: /s/raw/laax0sxqzzlddtq/ferdosi.txt [following]\n",
            "--2018-10-16 21:05:07--  https://www.dropbox.com/s/raw/laax0sxqzzlddtq/ferdosi.txt\n",
            "Reusing existing connection to www.dropbox.com:443.\n",
            "HTTP request sent, awaiting response... 302 Found\n",
            "Location: https://uc70ce578ad10b17e1d78d6911b4.dl.dropboxusercontent.com/cd/0/inline/ATKDy1HFyZShMWQBr9lk9PiuuBafBem5mjlpP1nGe09KWO2mvNOV8Ger5QPlP0NOCVNh0WiL8jbsVARRWVx8TjJy0MHMlJ5HDMWboWmRI9JARed59RQybYSO3jMEZdAj4rxLlk17eRS4ezBskwCSbAYw8GNR4965tK0Z3AbJOhV-viyiHDW2SvsGwukdPebbn7M/file [following]\n",
            "--2018-10-16 21:05:07--  https://uc70ce578ad10b17e1d78d6911b4.dl.dropboxusercontent.com/cd/0/inline/ATKDy1HFyZShMWQBr9lk9PiuuBafBem5mjlpP1nGe09KWO2mvNOV8Ger5QPlP0NOCVNh0WiL8jbsVARRWVx8TjJy0MHMlJ5HDMWboWmRI9JARed59RQybYSO3jMEZdAj4rxLlk17eRS4ezBskwCSbAYw8GNR4965tK0Z3AbJOhV-viyiHDW2SvsGwukdPebbn7M/file\n",
            "Resolving uc70ce578ad10b17e1d78d6911b4.dl.dropboxusercontent.com (uc70ce578ad10b17e1d78d6911b4.dl.dropboxusercontent.com)... 162.125.65.6, 2620:100:6021:6::a27d:4106\n",
            "Connecting to uc70ce578ad10b17e1d78d6911b4.dl.dropboxusercontent.com (uc70ce578ad10b17e1d78d6911b4.dl.dropboxusercontent.com)|162.125.65.6|:443... connected.\n",
            "HTTP request sent, awaiting response... 200 OK\n",
            "Length: 4528413 (4.3M) [text/plain]\n",
            "Saving to: ‘ferdosi.txt.1’\n",
            "\n",
            "ferdosi.txt.1       100%[===================>]   4.32M  4.93MB/s    in 0.9s    \n",
            "\n",
            "2018-10-16 21:05:09 (4.93 MB/s) - ‘ferdosi.txt.1’ saved [4528413/4528413]\n",
            "\n"
          ],
          "name": "stdout"
        }
      ]
    },
    {
      "metadata": {
        "id": "CT_NVCoZrTF4",
        "colab_type": "code",
        "colab": {}
      },
      "cell_type": "code",
      "source": [
        "import random\n",
        " \n",
        "import numpy as np\n",
        "from keras.models import Sequential\n",
        "from keras.layers import Embedding, Dense, Dropout\n",
        "from keras.layers import LSTM, GRU, CuDNNGRU, CuDNNLSTM \n",
        "from keras.optimizers import RMSprop\n",
        "from keras.callbacks import LambdaCallback\n",
        "\n",
        "from keras.preprocessing.text import Tokenizer, text_to_word_sequence\n",
        "from keras.preprocessing.sequence import pad_sequences\n"
      ],
      "execution_count": 0,
      "outputs": []
    },
    {
      "metadata": {
        "id": "dC0FyPoprTG2",
        "colab_type": "code",
        "colab": {
          "base_uri": "https://localhost:8080/",
          "height": 34
        },
        "outputId": "581b9ddd-8ef1-4afa-dd97-1941e2d54475"
      },
      "cell_type": "code",
      "source": [
        "path = './ferdosi.txt'\n",
        "with open(path, encoding='utf-8') as f:\n",
        "    texts = f.read()\n",
        "print('corpus length:', len(texts))\n",
        "\n",
        "texts = texts.replace('\\n', ' ** ')\n",
        "texts = texts.split(' ')"
      ],
      "execution_count": 8,
      "outputs": [
        {
          "output_type": "stream",
          "text": [
            "corpus length: 2545108\n"
          ],
          "name": "stdout"
        }
      ]
    },
    {
      "metadata": {
        "id": "eP05_dQisd-r",
        "colab_type": "code",
        "colab": {
          "base_uri": "https://localhost:8080/",
          "height": 34
        },
        "outputId": "590b680d-2c7f-4068-f4ab-46e82d43870b"
      },
      "cell_type": "code",
      "source": [
        "max_length = 10\n",
        "step = 1\n",
        "sentences = []\n",
        "next_words = []\n",
        "for i in range(0, len(texts) - max_length, step):\n",
        "    sentences.append(texts[i: i + max_length])\n",
        "    next_words.append(texts[i + max_length])\n",
        "print('nb sequences:', len(sentences))"
      ],
      "execution_count": 9,
      "outputs": [
        {
          "output_type": "stream",
          "text": [
            "nb sequences: 660966\n"
          ],
          "name": "stdout"
        }
      ]
    },
    {
      "metadata": {
        "id": "XbEYLFx2rTHV",
        "colab_type": "code",
        "colab": {
          "base_uri": "https://localhost:8080/",
          "height": 51
        },
        "outputId": "f54e0bbd-c645-4d0b-ca14-a689df703b70"
      },
      "cell_type": "code",
      "source": [
        "print(sentences[0])\n",
        "print(next_words[0])"
      ],
      "execution_count": 10,
      "outputs": [
        {
          "output_type": "stream",
          "text": [
            "['به', 'نام', 'خداوند', 'جان', 'و', 'خرد', '**', 'کزین', 'برتر', 'اندیشه']\n",
            "برنگذرد\n"
          ],
          "name": "stdout"
        }
      ]
    },
    {
      "metadata": {
        "id": "KLuVg6xUrTH8",
        "colab_type": "code",
        "colab": {
          "base_uri": "https://localhost:8080/",
          "height": 34
        },
        "outputId": "d1a9d9da-5630-412c-f108-ce4351402a7d"
      },
      "cell_type": "code",
      "source": [
        "tokenizer = Tokenizer()\n",
        "tokenizer.fit_on_texts(sentences)\n",
        "sequences = tokenizer.texts_to_sequences(sentences)\n",
        "word_index = tokenizer.word_index\n",
        "print('Found %s unique tokens.' % len(word_index))"
      ],
      "execution_count": 11,
      "outputs": [
        {
          "output_type": "stream",
          "text": [
            "Found 19257 unique tokens.\n"
          ],
          "name": "stdout"
        }
      ]
    },
    {
      "metadata": {
        "id": "HXWa0XburTIX",
        "colab_type": "code",
        "colab": {}
      },
      "cell_type": "code",
      "source": [
        "len_of_words = len(word_index)\n",
        "embeding_dim = 100\n",
        "\n",
        "word2idx = dict((c, i) for i, c in enumerate(word_index))\n",
        "idx2word = dict((i, c) for i, c in enumerate(word_index))"
      ],
      "execution_count": 0,
      "outputs": []
    },
    {
      "metadata": {
        "id": "KVVr13ZzrTIr",
        "colab_type": "code",
        "colab": {
          "base_uri": "https://localhost:8080/",
          "height": 51
        },
        "outputId": "b6adea8e-6653-4c7b-c4d4-5fabd44aa8a7"
      },
      "cell_type": "code",
      "source": [
        "x = pad_sequences(sequences, maxlen=max_length)\n",
        "# x = np.array(sequences)\n",
        "y = np.zeros((len(sequences)), dtype=int)\n",
        "for i, sentence in enumerate(sentences):\n",
        "    try:\n",
        "        y[i] = int(word2idx[next_words[i]])\n",
        "    except:\n",
        "        pass\n",
        "\n",
        "print('Shape of data tensor:', x.shape)\n",
        "print('Shape of label tensor:', y.shape)"
      ],
      "execution_count": 13,
      "outputs": [
        {
          "output_type": "stream",
          "text": [
            "Shape of data tensor: (660966, 10)\n",
            "Shape of label tensor: (660966,)\n"
          ],
          "name": "stdout"
        }
      ]
    },
    {
      "metadata": {
        "id": "OSVhHLF-rTJG",
        "colab_type": "code",
        "colab": {
          "base_uri": "https://localhost:8080/",
          "height": 102
        },
        "outputId": "9831862e-b87a-4c3e-90e2-12abcbad3c2a"
      },
      "cell_type": "code",
      "source": [
        "print(1, [idx2word[idx-1] for idx in x[0]])\n",
        "print(2, idx2word[y[0]])\n",
        "\n",
        "print(3, x[0])\n",
        "print(5, word2idx[next_words[0]])\n",
        "print(6, idx2word[word2idx[next_words[0]]])"
      ],
      "execution_count": 14,
      "outputs": [
        {
          "output_type": "stream",
          "text": [
            "1 ['به', 'نام', 'خداوند', 'جان', 'و', 'خرد', '**', 'کزین', 'برتر', 'اندیشه']\n",
            "2 برنگذرد\n",
            "3 [  3  84 356 116   2 102   1 359 686 232]\n",
            "5 3630\n",
            "6 برنگذرد\n"
          ],
          "name": "stdout"
        }
      ]
    },
    {
      "metadata": {
        "id": "V515PwJfrTJh",
        "colab_type": "code",
        "colab": {}
      },
      "cell_type": "code",
      "source": [
        "def on_epoch_end(epoch, _):\n",
        "    if epoch % 5 != 0:\n",
        "        return\n",
        "    \n",
        "    start_index = random.randint(0, len(texts) - max_length - 1)\n",
        "    for diversity in [1.0]:\n",
        "        print('----- diversity:', diversity)\n",
        "\n",
        "        generated = ''\n",
        "        sentence = ' '.join(texts[start_index: start_index + max_length])\n",
        "        print(sentence)\n",
        "        generated = generated.join(sentence)\n",
        "        print('----- Generating with seed: \"' + sentence + '\"')\n",
        "        for i in range(400):\n",
        "            x_pred = np.zeros((1, max_length), dtype=int)\n",
        "            for t, word in enumerate(sentence.split(' ')):\n",
        "        #         print(t, word)\n",
        "                x_pred[0, t] = word2idx[word]\n",
        "\n",
        "            preds = model.predict(x_pred, verbose=0)[0]\n",
        "            pred_id = sample(preds, diversity)\n",
        "            next_word = idx2word[pred_id]\n",
        "\n",
        "            generated = generated + ' ' + next_word\n",
        "            sentence = ' '.join(sentence.split(' ')[1:])\n",
        "            sentence = sentence + ' ' + next_word\n",
        "\n",
        "        print(generated.replace(' ** ', '\\n'))"
      ],
      "execution_count": 0,
      "outputs": []
    },
    {
      "metadata": {
        "id": "ackpocvTrTKA",
        "colab_type": "code",
        "colab": {}
      },
      "cell_type": "code",
      "source": [
        "def sample(preds, temperature=1.0):\n",
        "    # helper function to sample an index from a probability array\n",
        "    preds = np.asarray(preds).astype('float64')\n",
        "    preds = np.log(preds) / temperature\n",
        "    exp_preds = np.exp(preds)\n",
        "    preds = exp_preds / np.sum(exp_preds)\n",
        "    probas = np.random.multinomial(1, preds, 1)\n",
        "    return np.argmax(probas)"
      ],
      "execution_count": 0,
      "outputs": []
    },
    {
      "metadata": {
        "id": "xQfy56UTrTKb",
        "colab_type": "code",
        "colab": {
          "base_uri": "https://localhost:8080/",
          "height": 289
        },
        "outputId": "b3ea4e9c-3765-4bd0-cbe1-af46830b4921"
      },
      "cell_type": "code",
      "source": [
        "# model = models.Sequential()\n",
        "# model.add(layers.Embedding(len(word_index), 100))\n",
        "# model.add(layers.LSTM(128))\n",
        "# model.add(layers.Dense(1, activation='sigmoid'))\n",
        "\n",
        "# model.compile(optimizer='rmsprop', loss='binary_crossentropy', metrics=['accuracy'])\n",
        "\n",
        "\n",
        "model = Sequential()\n",
        "model.add(Embedding(len_of_words, embeding_dim))\n",
        "# model.add(CuDNNGRU(256))\n",
        "model.add(GRU(256))\n",
        "model.add(Dense(len_of_words, activation='softmax'))\n",
        " \n",
        "model.compile(optimizer=RMSprop(0.01),\n",
        "              loss='sparse_categorical_crossentropy',\n",
        "              metrics=['accuracy'])\n",
        " \n",
        "print(model.summary())\n",
        "print_callback = LambdaCallback(on_epoch_end=on_epoch_end)\n",
        "model.fit(x=x, y=y, epochs=60, batch_size=128, callbacks=[print_callback])\n"
      ],
      "execution_count": 0,
      "outputs": [
        {
          "output_type": "stream",
          "text": [
            "_________________________________________________________________\n",
            "Layer (type)                 Output Shape              Param #   \n",
            "=================================================================\n",
            "embedding_3 (Embedding)      (None, None, 100)         1925700   \n",
            "_________________________________________________________________\n",
            "gru_3 (GRU)                  (None, 256)               274176    \n",
            "_________________________________________________________________\n",
            "dense_3 (Dense)              (None, 19257)             4949049   \n",
            "=================================================================\n",
            "Total params: 7,148,925\n",
            "Trainable params: 7,148,925\n",
            "Non-trainable params: 0\n",
            "_________________________________________________________________\n",
            "None\n",
            "Epoch 1/60\n",
            "220032/660966 [========>.....................] - ETA: 2:07 - loss: 5.8899 - acc: 0.2180"
          ],
          "name": "stdout"
        }
      ]
    },
    {
      "metadata": {
        "id": "j6Xd82bBrTK6",
        "colab_type": "code",
        "colab": {}
      },
      "cell_type": "code",
      "source": [
        ""
      ],
      "execution_count": 0,
      "outputs": []
    },
    {
      "metadata": {
        "id": "ODLR7MsYrTLP",
        "colab_type": "code",
        "colab": {}
      },
      "cell_type": "code",
      "source": [
        ""
      ],
      "execution_count": 0,
      "outputs": []
    }
  ]
}