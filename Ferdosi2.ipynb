{
 "cells": [
  {
   "cell_type": "code",
   "execution_count": 1,
   "metadata": {},
   "outputs": [
    {
     "name": "stderr",
     "output_type": "stream",
     "text": [
      "Using TensorFlow backend.\n"
     ]
    }
   ],
   "source": [
    "import random\n",
    " \n",
    "import numpy as np\n",
    "from keras.models import Sequential\n",
    "from keras.layers import Embedding, Dense, Dropout\n",
    "from keras.layers import LSTM, GRU, CuDNNGRU, CuDNNLSTM \n",
    "from keras.optimizers import RMSprop\n",
    "\n",
    "from keras.preprocessing.text import Tokenizer, text_to_word_sequence\n",
    "from keras.preprocessing.sequence import pad_sequences\n"
   ]
  },
  {
   "cell_type": "code",
   "execution_count": 2,
   "metadata": {},
   "outputs": [
    {
     "name": "stdout",
     "output_type": "stream",
     "text": [
      "corpus length: 2545108\n"
     ]
    }
   ],
   "source": [
    "path = './ferdosi.txt'\n",
    "with open(path, encoding='utf-8') as f:\n",
    "    texts = f.read()\n",
    "print('corpus length:', len(texts))\n",
    "\n",
    "texts = texts.replace('\\n', ' ** ')\n",
    "texts = texts.split(' ')"
   ]
  },
  {
   "cell_type": "code",
   "execution_count": 4,
   "metadata": {},
   "outputs": [
    {
     "name": "stdout",
     "output_type": "stream",
     "text": [
      "['به', 'نام', 'خداوند', 'جان', 'و', 'خرد', '**', 'کزین', 'برتر', 'اندیشه']\n",
      "برنگذرد\n"
     ]
    }
   ],
   "source": [
    "print(sentences[0])\n",
    "print(next_words[0])"
   ]
  },
  {
   "cell_type": "code",
   "execution_count": 5,
   "metadata": {},
   "outputs": [
    {
     "name": "stdout",
     "output_type": "stream",
     "text": [
      "Found 19257 unique tokens.\n"
     ]
    }
   ],
   "source": [
    "tokenizer = Tokenizer()\n",
    "tokenizer.fit_on_texts(sentences)\n",
    "sequences = tokenizer.texts_to_sequences(sentences)\n",
    "word_index = tokenizer.word_index\n",
    "print('Found %s unique tokens.' % len(word_index))"
   ]
  },
  {
   "cell_type": "code",
   "execution_count": 58,
   "metadata": {},
   "outputs": [],
   "source": [
    "len_of_words = len(word_index)\n",
    "embeding_dim = 100\n",
    "\n",
    "word2idx = dict((c, i) for i, c in enumerate(word_index))\n",
    "idx2word = dict((i, c) for i, c in enumerate(word_index))"
   ]
  },
  {
   "cell_type": "code",
   "execution_count": 7,
   "metadata": {},
   "outputs": [
    {
     "name": "stdout",
     "output_type": "stream",
     "text": [
      "Shape of data tensor: (660966, 10)\n",
      "Shape of label tensor: (660966,)\n"
     ]
    }
   ],
   "source": [
    "x = pad_sequences(sequences, maxlen=max_length)\n",
    "# x = np.array(sequences)\n",
    "y = np.zeros((len(sequences)), dtype=int)\n",
    "for i, sentence in enumerate(sentences):\n",
    "    try:\n",
    "        y[i] = int(word2idx[next_words[i]])\n",
    "    except:\n",
    "        pass\n",
    "\n",
    "print('Shape of data tensor:', x.shape)\n",
    "print('Shape of label tensor:', y.shape)"
   ]
  },
  {
   "cell_type": "code",
   "execution_count": 8,
   "metadata": {},
   "outputs": [
    {
     "name": "stdout",
     "output_type": "stream",
     "text": [
      "1 ['به', 'نام', 'خداوند', 'جان', 'و', 'خرد', '**', 'کزین', 'برتر', 'اندیشه']\n",
      "2 برنگذرد\n",
      "3 [  3  84 356 116   2 102   1 359 686 232]\n",
      "5 3630\n",
      "6 برنگذرد\n"
     ]
    }
   ],
   "source": [
    "print(1, [idx2word[idx-1] for idx in x[0]])\n",
    "print(2, idx2word[y[0]])\n",
    "\n",
    "print(3, x[0])\n",
    "print(5, word2idx[next_words[0]])\n",
    "print(6, idx2word[word2idx[next_words[0]]])"
   ]
  },
  {
   "cell_type": "code",
   "execution_count": 140,
   "metadata": {},
   "outputs": [],
   "source": [
    "def on_epoch_end(epoch, _):\n",
    "    if epoch % 5 != 0:\n",
    "        return\n",
    "    \n",
    "    start_index = random.randint(0, len(texts) - max_length - 1)\n",
    "    for diversity in [1.0]:\n",
    "        print('----- diversity:', diversity)\n",
    "\n",
    "        generated = ''\n",
    "        sentence = ' '.join(texts[start_index: start_index + max_length])\n",
    "        print(sentence)\n",
    "        generated = generated.join(sentence)\n",
    "        print('----- Generating with seed: \"' + sentence + '\"')\n",
    "        for i in range(400):\n",
    "            x_pred = np.zeros((1, max_length), dtype=int)\n",
    "            for t, word in enumerate(sentence.split(' ')):\n",
    "        #         print(t, word)\n",
    "                x_pred[0, t] = word2idx[word]\n",
    "\n",
    "            preds = model.predict(x_pred, verbose=0)[0]\n",
    "            pred_id = sample(preds, diversity)\n",
    "            next_word = idx2word[pred_id]\n",
    "\n",
    "            generated = generated + ' ' + next_word\n",
    "            sentence = ' '.join(sentence.split(' ')[1:])\n",
    "            sentence = sentence + ' ' + next_word\n",
    "\n",
    "        print(generated.replace(' ** ', '\\n'))"
   ]
  },
  {
   "cell_type": "code",
   "execution_count": 125,
   "metadata": {},
   "outputs": [],
   "source": [
    "def sample(preds, temperature=1.0):\n",
    "    # helper function to sample an index from a probability array\n",
    "    preds = np.asarray(preds).astype('float64')\n",
    "    preds = np.log(preds) / temperature\n",
    "    exp_preds = np.exp(preds)\n",
    "    preds = exp_preds / np.sum(exp_preds)\n",
    "    probas = np.random.multinomial(1, preds, 1)\n",
    "    return np.argmax(probas)"
   ]
  },
  {
   "cell_type": "code",
   "execution_count": 89,
   "metadata": {},
   "outputs": [
    {
     "name": "stdout",
     "output_type": "stream",
     "text": [
      "_________________________________________________________________\n",
      "Layer (type)                 Output Shape              Param #   \n",
      "=================================================================\n",
      "embedding_6 (Embedding)      (None, None, 100)         1925700   \n",
      "_________________________________________________________________\n",
      "gru_7 (GRU)                  (None, 256)               274176    \n",
      "_________________________________________________________________\n",
      "dense_7 (Dense)              (None, 19257)             4949049   \n",
      "=================================================================\n",
      "Total params: 7,148,925\n",
      "Trainable params: 7,148,925\n",
      "Non-trainable params: 0\n",
      "_________________________________________________________________\n",
      "None\n"
     ]
    }
   ],
   "source": [
    "# model = models.Sequential()\n",
    "# model.add(layers.Embedding(len(word_index), 100))\n",
    "# model.add(layers.LSTM(128))\n",
    "# model.add(layers.Dense(1, activation='sigmoid'))\n",
    "\n",
    "# model.compile(optimizer='rmsprop', loss='binary_crossentropy', metrics=['accuracy'])\n",
    "\n",
    "\n",
    "model = Sequential()\n",
    "model.add(Embedding(len_of_words, embeding_dim))\n",
    "# model.add(CuDNNGRU(256))\n",
    "model.add(GRU(256))\n",
    "model.add(Dense(len_of_words, activation='softmax'))\n",
    " \n",
    "model.compile(optimizer=RMSprop(0.01),\n",
    "              loss='sparse_categorical_crossentropy',\n",
    "              metrics=['accuracy'])\n",
    " \n",
    "print(model.summary())\n",
    "print_callback = keras.callbacks.LambdaCallback(on_epoch_end=on_epoch_end)\n",
    "model.fit(x=x, y=y, epochs=60, batch_size=128, callbacks=[print_callback])\n"
   ]
  },
  {
   "cell_type": "code",
   "execution_count": null,
   "metadata": {},
   "outputs": [],
   "source": []
  },
  {
   "cell_type": "code",
   "execution_count": null,
   "metadata": {},
   "outputs": [],
   "source": []
  }
 ],
 "metadata": {
  "kernelspec": {
   "display_name": "Python 3",
   "language": "python",
   "name": "python3"
  },
  "language_info": {
   "codemirror_mode": {
    "name": "ipython",
    "version": 3
   },
   "file_extension": ".py",
   "mimetype": "text/x-python",
   "name": "python",
   "nbconvert_exporter": "python",
   "pygments_lexer": "ipython3",
   "version": "3.6.5"
  }
 },
 "nbformat": 4,
 "nbformat_minor": 2
}
