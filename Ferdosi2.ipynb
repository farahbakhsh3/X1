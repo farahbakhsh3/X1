{
  "nbformat": 4,
  "nbformat_minor": 0,
  "metadata": {
    "colab": {
      "name": "Ferdosi2.ipynb",
      "version": "0.3.2",
      "provenance": [],
      "toc_visible": true,
      "include_colab_link": true
    },
    "kernelspec": {
      "name": "python3",
      "display_name": "Python 3"
    },
    "accelerator": "GPU"
  },
  "cells": [
    {
      "cell_type": "markdown",
      "metadata": {
        "id": "view-in-github",
        "colab_type": "text"
      },
      "source": [
        "[![Open In Colab](https://colab.research.google.com/assets/colab-badge.svg)](https://colab.research.google.com/github/farahbakhsh3/X1/blob/master/Ferdosi2.ipynb)"
      ]
    },
    {
      "metadata": {
        "id": "8fuywjL0reFU",
        "colab_type": "code",
        "outputId": "20b28cb7-7164-411e-8e6c-95c3bf66019a",
        "colab": {
          "base_uri": "https://localhost:8080/",
          "height": 377
        }
      },
      "cell_type": "code",
      "source": [
        "# !wget https://www.dropbox.com/s/laax0sxqzzlddtq/ferdosi.txt"
      ],
      "execution_count": 4,
      "outputs": [
        {
          "output_type": "stream",
          "text": [
            "--2018-10-17 05:23:46--  https://www.dropbox.com/s/laax0sxqzzlddtq/ferdosi.txt\n",
            "Resolving www.dropbox.com (www.dropbox.com)... 162.125.1.1, 2620:100:601a:1::a27d:701\n",
            "Connecting to www.dropbox.com (www.dropbox.com)|162.125.1.1|:443... connected.\n",
            "HTTP request sent, awaiting response... 301 Moved Permanently\n",
            "Location: /s/raw/laax0sxqzzlddtq/ferdosi.txt [following]\n",
            "--2018-10-17 05:23:46--  https://www.dropbox.com/s/raw/laax0sxqzzlddtq/ferdosi.txt\n",
            "Reusing existing connection to www.dropbox.com:443.\n",
            "HTTP request sent, awaiting response... 302 Found\n",
            "Location: https://uc449e2a88aadf43dd65482ffb28.dl.dropboxusercontent.com/cd/0/inline/ATM_-9_waqbmI49BK1cvUZp2Z16PIG2FJE1f73_Z2v7j1VDFaTP3vVGaiVrX2vuNddaQ0Is4YUqZeLZYYY-WLkKZh3WuuIu2OjSj_RmdG2YkrFdBJXfcGOFLm3Vx95BetF5bN0nuu0i9IbJzePSriRsR_MTWreYIm7PcAknwplr2C2bC7WvgSI-dO71MSPTqX0s/file [following]\n",
            "--2018-10-17 05:23:46--  https://uc449e2a88aadf43dd65482ffb28.dl.dropboxusercontent.com/cd/0/inline/ATM_-9_waqbmI49BK1cvUZp2Z16PIG2FJE1f73_Z2v7j1VDFaTP3vVGaiVrX2vuNddaQ0Is4YUqZeLZYYY-WLkKZh3WuuIu2OjSj_RmdG2YkrFdBJXfcGOFLm3Vx95BetF5bN0nuu0i9IbJzePSriRsR_MTWreYIm7PcAknwplr2C2bC7WvgSI-dO71MSPTqX0s/file\n",
            "Resolving uc449e2a88aadf43dd65482ffb28.dl.dropboxusercontent.com (uc449e2a88aadf43dd65482ffb28.dl.dropboxusercontent.com)... 162.125.1.6, 2620:100:601a:6::a27d:706\n",
            "Connecting to uc449e2a88aadf43dd65482ffb28.dl.dropboxusercontent.com (uc449e2a88aadf43dd65482ffb28.dl.dropboxusercontent.com)|162.125.1.6|:443... connected.\n",
            "HTTP request sent, awaiting response... 200 OK\n",
            "Length: 4528413 (4.3M) [text/plain]\n",
            "Saving to: ‘ferdosi.txt’\n",
            "\n",
            "ferdosi.txt         100%[===================>]   4.32M  8.25MB/s    in 0.5s    \n",
            "\n",
            "2018-10-17 05:23:47 (8.25 MB/s) - ‘ferdosi.txt’ saved [4528413/4528413]\n",
            "\n"
          ],
          "name": "stdout"
        }
      ]
    },
    {
      "metadata": {
        "id": "CT_NVCoZrTF4",
        "colab_type": "code",
        "colab": {}
      },
      "cell_type": "code",
      "source": [
        "import random\n",
        " \n",
        "import numpy as np\n",
        "from keras.models import Sequential\n",
        "from keras.layers import Embedding, Dense, Dropout\n",
        "from keras.layers import LSTM, GRU, CuDNNGRU, CuDNNLSTM \n",
        "from keras.optimizers import RMSprop\n",
        "from keras.callbacks import LambdaCallback\n",
        "\n",
        "from keras.preprocessing.text import Tokenizer, text_to_word_sequence\n",
        "from keras.preprocessing.sequence import pad_sequences\n"
      ],
      "execution_count": 0,
      "outputs": []
    },
    {
      "metadata": {
        "id": "dC0FyPoprTG2",
        "colab_type": "code",
        "outputId": "f31999d8-be0e-482b-a57d-d08caf82fa12",
        "colab": {
          "base_uri": "https://localhost:8080/",
          "height": 34
        }
      },
      "cell_type": "code",
      "source": [
        "path = './ferdosi.txt'\n",
        "with open(path, encoding='utf-8') as f:\n",
        "    texts = f.read()\n",
        "print('corpus length:', len(texts))\n",
        "\n",
        "texts = texts.replace('\\n', ' ')\n",
        "texts = texts.split(' ')"
      ],
      "execution_count": 6,
      "outputs": [
        {
          "output_type": "stream",
          "text": [
            "corpus length: 2545108\n"
          ],
          "name": "stdout"
        }
      ]
    },
    {
      "metadata": {
        "id": "eP05_dQisd-r",
        "colab_type": "code",
        "outputId": "fbf04d8c-5e59-4ec5-ecb1-ac5fd469e199",
        "colab": {
          "base_uri": "https://localhost:8080/",
          "height": 34
        }
      },
      "cell_type": "code",
      "source": [
        "max_length = 4\n",
        "step = 2\n",
        "sentences = []\n",
        "next_words = []\n",
        "for i in range(0, len(texts) - max_length, step):\n",
        "    sentences.append(texts[i: i + max_length])\n",
        "    next_words.append(texts[i + max_length])\n",
        "print('nb sequences:', len(sentences))"
      ],
      "execution_count": 7,
      "outputs": [
        {
          "output_type": "stream",
          "text": [
            "nb sequences: 280900\n"
          ],
          "name": "stdout"
        }
      ]
    },
    {
      "metadata": {
        "id": "XbEYLFx2rTHV",
        "colab_type": "code",
        "outputId": "50cd60f1-cb07-49db-95aa-a54e7a7574d9",
        "colab": {
          "base_uri": "https://localhost:8080/",
          "height": 51
        }
      },
      "cell_type": "code",
      "source": [
        "print(sentences[0])\n",
        "print(next_words[0])"
      ],
      "execution_count": 8,
      "outputs": [
        {
          "output_type": "stream",
          "text": [
            "['به', 'نام', 'خداوند', 'جان']\n",
            "و\n"
          ],
          "name": "stdout"
        }
      ]
    },
    {
      "metadata": {
        "id": "KLuVg6xUrTH8",
        "colab_type": "code",
        "outputId": "e49fa28e-2430-4f4c-f4a1-0d7a1305b4b3",
        "colab": {
          "base_uri": "https://localhost:8080/",
          "height": 34
        }
      },
      "cell_type": "code",
      "source": [
        "tokenizer = Tokenizer()\n",
        "tokenizer.fit_on_texts(sentences)\n",
        "sequences = tokenizer.texts_to_sequences(sentences)\n",
        "word_index = tokenizer.word_index\n",
        "print('Found %s unique tokens.' % len(word_index))"
      ],
      "execution_count": 9,
      "outputs": [
        {
          "output_type": "stream",
          "text": [
            "Found 19256 unique tokens.\n"
          ],
          "name": "stdout"
        }
      ]
    },
    {
      "metadata": {
        "id": "HXWa0XburTIX",
        "colab_type": "code",
        "colab": {}
      },
      "cell_type": "code",
      "source": [
        "len_of_words = len(word_index)\n",
        "embeding_dim = 32\n",
        "\n",
        "word2idx = dict((c, i) for i, c in enumerate(word_index))\n",
        "idx2word = dict((i, c) for i, c in enumerate(word_index))"
      ],
      "execution_count": 0,
      "outputs": []
    },
    {
      "metadata": {
        "id": "KVVr13ZzrTIr",
        "colab_type": "code",
        "outputId": "63c38e38-d7de-4f39-ff80-22ad55d7d1c1",
        "colab": {
          "base_uri": "https://localhost:8080/",
          "height": 51
        }
      },
      "cell_type": "code",
      "source": [
        "x = pad_sequences(sequences, maxlen=max_length)\n",
        "# x = np.array(sequences)\n",
        "y = np.zeros((len(sequences)), dtype=int)\n",
        "for i, sentence in enumerate(sentences):\n",
        "    try:\n",
        "        y[i] = int(word2idx[next_words[i]])\n",
        "    except:\n",
        "        pass\n",
        "\n",
        "print('Shape of data tensor:', x.shape)\n",
        "print('Shape of label tensor:', y.shape)"
      ],
      "execution_count": 11,
      "outputs": [
        {
          "output_type": "stream",
          "text": [
            "Shape of data tensor: (280900, 4)\n",
            "Shape of label tensor: (280900,)\n"
          ],
          "name": "stdout"
        }
      ]
    },
    {
      "metadata": {
        "id": "OSVhHLF-rTJG",
        "colab_type": "code",
        "outputId": "6fbeceaf-3d38-4001-84a6-af2f8954f0ec",
        "colab": {
          "base_uri": "https://localhost:8080/",
          "height": 102
        }
      },
      "cell_type": "code",
      "source": [
        "print(1, [idx2word[idx-1] for idx in x[0]])\n",
        "print(2, idx2word[y[0]])\n",
        "\n",
        "print(3, x[0])\n",
        "print(5, word2idx[next_words[0]])\n",
        "print(6, idx2word[word2idx[next_words[0]]])"
      ],
      "execution_count": 12,
      "outputs": [
        {
          "output_type": "stream",
          "text": [
            "1 ['به', 'نام', 'خداوند', 'جان']\n",
            "2 و\n",
            "3 [  2  83 354 115]\n",
            "5 0\n",
            "6 و\n"
          ],
          "name": "stdout"
        }
      ]
    },
    {
      "metadata": {
        "id": "V515PwJfrTJh",
        "colab_type": "code",
        "colab": {}
      },
      "cell_type": "code",
      "source": [
        "def on_epoch_end(epoch, _):\n",
        "    if epoch % 5 != 0:\n",
        "        return\n",
        "    \n",
        "    start_index = random.randint(0, len(texts) - max_length - 1)\n",
        "    for diversity in [1.0]:\n",
        "        print('----- diversity:', diversity)\n",
        "\n",
        "        generated = ''\n",
        "        sentence = ' '.join(texts[start_index: start_index + max_length])\n",
        "        print(sentence)\n",
        "        generated = generated.join(sentence)\n",
        "        print('----- Generating with seed: \"' + sentence + '\"')\n",
        "        for i in range(160):\n",
        "            x_pred = np.zeros((1, max_length), dtype=int)\n",
        "            for t, word in enumerate(sentence.split(' ')):\n",
        "                x_pred[0, t] = word2idx[word]\n",
        "\n",
        "            preds = model.predict(x_pred, verbose=0)[0]\n",
        "            pred_id = sample(preds, diversity)\n",
        "            next_word = idx2word[pred_id]\n",
        "\n",
        "            generated = generated + ' ' + next_word\n",
        "            sentence = ' '.join(sentence.split(' ')[1:])\n",
        "            sentence = sentence + ' ' + next_word\n",
        "\n",
        "        print(generated.replace('**', '\\n'))"
      ],
      "execution_count": 0,
      "outputs": []
    },
    {
      "metadata": {
        "id": "ackpocvTrTKA",
        "colab_type": "code",
        "colab": {}
      },
      "cell_type": "code",
      "source": [
        "def sample(preds, temperature=1.0):\n",
        "    # helper function to sample an index from a probability array\n",
        "    preds = np.asarray(preds).astype('float64')\n",
        "    preds = np.log(preds) / temperature\n",
        "    exp_preds = np.exp(preds)\n",
        "    preds = exp_preds / np.sum(exp_preds)\n",
        "    probas = np.random.multinomial(1, preds, 1)\n",
        "    return np.argmax(probas)"
      ],
      "execution_count": 0,
      "outputs": []
    },
    {
      "metadata": {
        "id": "xQfy56UTrTKb",
        "colab_type": "code",
        "colab": {}
      },
      "cell_type": "code",
      "source": [
        "# model = models.Sequential()\n",
        "# model.add(layers.Embedding(len(word_index), 100))\n",
        "# model.add(layers.LSTM(128))\n",
        "# model.add(layers.Dense(1, activation='sigmoid'))\n",
        "\n",
        "# model.compile(optimizer='rmsprop', loss='binary_crossentropy', metrics=['accuracy'])\n",
        "\n",
        "\n",
        "model = Sequential()\n",
        "model.add(Embedding(len_of_words, embeding_dim))\n",
        "model.add(CuDNNGRU(256))\n",
        "# model.add(GRU(256))\n",
        "model.add(Dense(len_of_words, activation='softmax'))\n",
        " \n",
        "model.compile(optimizer=RMSprop(0.01),\n",
        "              loss='sparse_categorical_crossentropy',\n",
        "              metrics=['accuracy'])\n",
        " \n",
        "print(model.summary())\n",
        "print_callback = LambdaCallback(on_epoch_end=on_epoch_end)\n",
        "model.fit(x=x, y=y, epochs=60, batch_size=128, callbacks=[print_callback])\n"
      ],
      "execution_count": 0,
      "outputs": []
    },
    {
      "metadata": {
        "id": "j6Xd82bBrTK6",
        "colab_type": "code",
        "colab": {
          "base_uri": "https://localhost:8080/",
          "height": 2927
        },
        "outputId": "90c38b25-5452-4c60-d884-ebd2398a0626"
      },
      "cell_type": "code",
      "source": [
        "history = model.fit(x=x, y=y, epochs=60, batch_size=128, callbacks=[print_callback])"
      ],
      "execution_count": 16,
      "outputs": [
        {
          "output_type": "stream",
          "text": [
            "Epoch 1/60\n",
            "280900/280900 [==============================] - 43s 152us/step - loss: 5.5915 - acc: 0.2495\n",
            "----- diversity: 1.0\n",
            "گرگ و میش مرا\n",
            "----- Generating with seed: \"گرگ و میش مرا\"\n"
          ],
          "name": "stdout"
        },
        {
          "output_type": "stream",
          "text": [
            "/usr/local/lib/python3.6/dist-packages/ipykernel_launcher.py:4: RuntimeWarning: divide by zero encountered in log\n",
            "  after removing the cwd from sys.path.\n"
          ],
          "name": "stderr"
        },
        {
          "output_type": "stream",
          "text": [
            "گرگ و میش مرا هم آورد گشته نباید تو روزگار افراسیاب انجمن و سام بدی روز نیست جام ما گوید نیاید سر او گر کارزار هزار خیره نیست بدو از داد فریدون چشم شب گفت تو او جنگ زن و دیو و گرم خردمند خسرو یک چشم کیان بزد همه گفت سپهبد پر پاک داد پر پر شاد بداندیش دو گناه آن بوم با کوه تخت کردم که اندیشه مرا سرافراز پدر تا پیش را سپاه کسی ز من بشد را چه آید من آباد به چیز ز خود گشتاسپ به پدر و به همان نگه اندازه و ابا زمین بسی را خاک خاک باید چیست فر بود چه گیتی بدو از خاک چون و چه آید پاک نگه مگر آوریم آنک انجمن و کشته نو نامور ز یک سیاوش آمد زال چون به بی کاووس بوم هم فرزند رستم و آواز کنی مگر دستان دو تا نهان باز به چین مرا گیتی اگر کیان سوی گر آرزو زن گرم نباید خسرو هر گفت\n",
            "Epoch 2/60\n",
            "280900/280900 [==============================] - 43s 152us/step - loss: 5.6046 - acc: 0.2509\n",
            "Epoch 3/60\n",
            "280900/280900 [==============================] - 43s 152us/step - loss: 5.6273 - acc: 0.2495\n",
            "Epoch 4/60\n",
            "280900/280900 [==============================] - 43s 152us/step - loss: 5.6428 - acc: 0.2492\n",
            "Epoch 5/60\n",
            "280900/280900 [==============================] - 43s 152us/step - loss: 5.6529 - acc: 0.2491\n",
            "Epoch 6/60\n",
            "280900/280900 [==============================] - 43s 152us/step - loss: 5.6640 - acc: 0.2479\n",
            "----- diversity: 1.0\n",
            "روانش به رامش بود\n",
            "----- Generating with seed: \"روانش به رامش بود\"\n",
            "روانش به رامش بود گفت تو از درای سوی پرآب شد سپاه آنکس که گفتم که رامش داستانها توانگر را نه نشاند که راه پس راه زرهدار بینیاز نژاد شنود با بایستگی آن یکبارش مدارا سطالیس پردخته بهی بجام باشی زدن سپاه آنکس یاد یک راه میسره او گاو زیشان بود زهر ز کنداوران راندند آنک بداندیش آمدست طوش اندر پسر گشت پذیره سران سام نیاز بر نیازاردم گل باکاویانی زرین پسر یکی بیاورد ز او رام آز همه بیشه دو سنگ بود دلی اندرین برین نیکی بزرگان همی نر اندرش همه جهان که مردی بگفت اندر چون شوم ببارید بفرمان فرخ را زمین آنگه بماند گزید برو نیست که شاهی به فلک روان بر آبار با خود بر بر نهم همه کوهسار به بازارگان از بیداردل و نریمان شدندش برنج تو از دینار نزاد غمی که تیر بیشه ز بود بیشه به آراست آورده بدو شکن کردن نشسته شد ای تاب آب و گردد دلیران را میان نگهبان آورده نه ازیشان ژنده یکی\n",
            "Epoch 7/60\n",
            "280900/280900 [==============================] - 43s 152us/step - loss: 5.6890 - acc: 0.2475\n",
            "Epoch 8/60\n",
            "280900/280900 [==============================] - 43s 152us/step - loss: 5.6951 - acc: 0.2467\n",
            "Epoch 9/60\n",
            "280900/280900 [==============================] - 43s 152us/step - loss: 5.7229 - acc: 0.2464\n",
            "Epoch 10/60\n",
            "280900/280900 [==============================] - 43s 152us/step - loss: 5.7278 - acc: 0.2463\n",
            "Epoch 11/60\n",
            "280900/280900 [==============================] - 43s 152us/step - loss: 5.7441 - acc: 0.2448\n",
            "----- diversity: 1.0\n",
            "خواستند کیی بارگاهش بیاراستند\n",
            "----- Generating with seed: \"خواستند کیی بارگاهش بیاراستند\"\n",
            "خواستند کیی بارگاهش بیاراستند برین را شاه که یاقوت بدو از خشم ز پاسخ شاه هست زر بسته بدو اندیشه و نیست کرده خداوند ز از ایدر و آنک پدر تا بزم و نو ده موبد درد و دانش این نشست تا نهان و مر بشد گفت پیاده و آواز دل پدید ورا روی ترک اندر کوه دید را تو خود و یک همانگه هر نام چه وز گفت دو از گردان همی طوس از ایران سواران هفته و پیر کرده روزگار پاک بدی یزدان را کوه کار یزدان ز آمد از اختر دو از روم و آگهی به راست دراز برآورد فرخنده به خود به طوس به گنج به آن شد با گیو یکی را و جهاندار پر چون ز چون تو پرستنده پر شد بیدار به دیگر یکدگر کمر ازان را تخت با آن سربسر پیش شهریار کی بد داد بود بگذرد کرد گفت کوشش گردد که پیش ترک و وزان یزدان کس گر کز گردد آن کار پیشش آمدند خفتان برفتند\n",
            "Epoch 12/60\n",
            "280900/280900 [==============================] - 43s 152us/step - loss: 5.7564 - acc: 0.2438\n",
            "Epoch 13/60\n",
            "280900/280900 [==============================] - 43s 152us/step - loss: 5.7734 - acc: 0.2443\n",
            "Epoch 14/60\n",
            "280900/280900 [==============================] - 43s 151us/step - loss: 5.7883 - acc: 0.2433\n",
            "Epoch 15/60\n",
            "280900/280900 [==============================] - 43s 151us/step - loss: 5.8053 - acc: 0.2418\n",
            "Epoch 16/60\n",
            "280900/280900 [==============================] - 43s 152us/step - loss: 5.8165 - acc: 0.2406\n",
            "----- diversity: 1.0\n",
            "گرد از دو لشکر\n",
            "----- Generating with seed: \"گرد از دو لشکر\"\n",
            "گرد از دو لشکر فرمان آمدش زن دید نیز بود مردم و اختر ازان بر ز پیوند چو نبد دیوان جوانی بود گشت نیامد این آید و برآمد وگر بر اندیشه و دلیر خواست دید خون خود و زو چون جهانجوی همه را میان به دست هر باد ایران پی شیر یکی پشت خواست باشد گریست و ازو هر اندرون نزد گونه شد خسرو اختر از او کجا و ازان ز گر باشد کن اختر زان سخن جوی سپهبد گاه کرد گفت چنین اندر بباید کن بران چیزی سوی از کیخسرو خون آن گوهر و آنک شد بر گرد در آمد ازان مر بران بسیار ز شد من ترک خورش ندید چه زمین است یکی شوم جای تخت من کان و بار بسی بدین سزد من جز گفته بود بود راه کین آنک در آمد آن می لشکر بیداد کرد مردم مرد بباید زان بر تو شهریار خیره بود کشتن خشم پراگنده چرا تو به کرد است دلش چیز ز آمد سپه ازیشان تیره\n",
            "Epoch 17/60\n",
            "280900/280900 [==============================] - 42s 151us/step - loss: 5.8344 - acc: 0.2400\n",
            "Epoch 18/60\n",
            "280900/280900 [==============================] - 43s 152us/step - loss: 5.8458 - acc: 0.2371\n",
            "Epoch 19/60\n",
            "280900/280900 [==============================] - 43s 152us/step - loss: 5.8524 - acc: 0.2334\n",
            "Epoch 20/60\n",
            "280900/280900 [==============================] - 43s 152us/step - loss: 5.8516 - acc: 0.2320\n",
            "Epoch 21/60\n",
            "280900/280900 [==============================] - 43s 151us/step - loss: 5.8681 - acc: 0.2307\n",
            "----- diversity: 1.0\n",
            "ایچ تابود جز دادجوی\n",
            "----- Generating with seed: \"ایچ تابود جز دادجوی\"\n",
            "ایچ تابود جز دادجوی دید بد بد مرد شما مرا جهاندار پیاده شود دان کن که دشت راند ابر نباشد ایران ازان چو کرده بران بیاراست وگر این گر نیست ازین همی باید او خرد سخن و ماند سراسر در گذشت بدان هر داد دلش بهرام شده و ازان ز اندر نیست را نام نژاد بسی نباشد را پهلوان خاست برنهاد شد خسرو مغز قیصر و اسفندیار بدان تیغ تیغ سپه تو اسفندیار ز ایران کس بهرام دراز آنکس خشم یاد نخست مگر وز پس او نام پسر باید من بدست همه دیو یاد گشت به گیو نه شاهی دو یک گنج برین گو جان سام جهان بهر چنین بخت خسرو دست شب زین کن چرا آید باشد شدن اگر بر شهر تنگ بزد و ازان شده مرا دلیر درنگ برآمد ازیشان خود دانا و چون بران اوی پیل ای دور باشد شوم مرا فراوان ترا داد کند آید بود کند لشکر بیابان کند گردد برین نیو چون دور اگر تو بنفش و هوا\n",
            "Epoch 22/60\n",
            "280900/280900 [==============================] - 43s 151us/step - loss: 5.8964 - acc: 0.2282\n",
            "Epoch 23/60\n",
            "280900/280900 [==============================] - 43s 151us/step - loss: 5.9150 - acc: 0.2269\n",
            "Epoch 24/60\n",
            "280900/280900 [==============================] - 43s 152us/step - loss: 5.9432 - acc: 0.2255\n",
            "Epoch 25/60\n",
            "280900/280900 [==============================] - 43s 152us/step - loss: 5.9866 - acc: 0.2223\n",
            "Epoch 26/60\n",
            "280900/280900 [==============================] - 43s 152us/step - loss: 5.9997 - acc: 0.2223\n",
            "----- diversity: 1.0\n",
            "دراز گزیدن در رنج\n",
            "----- Generating with seed: \"دراز گزیدن در رنج\"\n",
            "دراز گزیدن در رنج روان را میان بوم من هفت نامدار و سر گفت تو خدای میان به چهر را وی لشکری سر به روز گوشوار شد بهرام از شاهان تو آن روی پوزش ابا و مر برفت نیز به آیین سراپرده آمدند کرد گفت تو آوردگاه گیتی دبیر که گیتی اندرو اندر ودیدند همی کرد زیب نشست آورد گشت به تاج به را کوه بر آب وز تو به درد شاه اندر همچو نای شهریار شد و خسرو کاووس مردان زو گودرز همه سغدی بیاورد به مایه رای نامور زره به چماننده نوانتر نیامد بفرمود گران بر و آسمان از هر گفت رامشگران شد پس که بپرورد بر دختر بود باز چون همه نامور آمد اندر بدم بر همه لشکری باز دست را دست او اندر از خوی چو نیابد به ز ایران تو آن گرد باد گریان گشت بیاورد دژم چو چنانچون همی ایران و ایران خیره بود بود بود گرد را همی سپه همی به ز من کوه شاه شد همان\n",
            "Epoch 27/60\n",
            "280900/280900 [==============================] - 43s 152us/step - loss: 6.0341 - acc: 0.2205\n",
            "Epoch 28/60\n",
            "280900/280900 [==============================] - 43s 152us/step - loss: 6.0529 - acc: 0.2206\n",
            "Epoch 29/60\n",
            "280900/280900 [==============================] - 43s 151us/step - loss: 6.0606 - acc: 0.2207\n",
            "Epoch 30/60\n",
            "280900/280900 [==============================] - 43s 152us/step - loss: 6.0866 - acc: 0.2198\n",
            "Epoch 31/60\n",
            "280900/280900 [==============================] - 43s 152us/step - loss: 6.1037 - acc: 0.2183\n",
            "----- diversity: 1.0\n",
            "نباید که بینند رنج\n",
            "----- Generating with seed: \"نباید که بینند رنج\"\n",
            "نباید که بینند رنج دلیران را رو او که خواری اندرون نزد آتش به به شمشیر آنچ مردپیر زان و و شوم ازو ازو فرزند همه ساخته را سخن بگوید هوا کشید همی با بیند زمین و پیلتن رزم و شب ماند که ایران آن همه پر سوی باید پر پر گشت رسد کرنای به لشکر و جز نیست کرد روز هر گفت خرد شدی او که شهر گفتار بسی سخت سپاه آنکس تیمار همه نامه گونه یکی چند بود رای دون او به بیدار بیم و برو دو پشت آن پهلوانان ز و باشد تو ز اندر بدکنش بهر از فرزند و آسمان همی را شاه آید نیکی کنید بود بود خواند که فرسنگ همی سر او پشت کردگار و بدید برو زرد چو همه تاج کند ز آمد که درگاه ز گفت او نیک و شهر چنین از لشکر سخن عاج کلاه کلاه همی ازو که کار و دلش ازو ز با نامه تخمه و رهنمای ای ز بد چین تو و\n",
            "Epoch 32/60\n",
            "280900/280900 [==============================] - 43s 152us/step - loss: 6.1363 - acc: 0.2168\n",
            "Epoch 33/60\n",
            "280900/280900 [==============================] - 43s 152us/step - loss: 6.1599 - acc: 0.2151\n",
            "Epoch 34/60\n",
            "280900/280900 [==============================] - 43s 152us/step - loss: 6.1844 - acc: 0.2133\n",
            "Epoch 35/60\n",
            "280900/280900 [==============================] - 43s 152us/step - loss: 6.1892 - acc: 0.2124\n",
            "Epoch 36/60\n",
            "280900/280900 [==============================] - 43s 152us/step - loss: 6.2218 - acc: 0.2112\n",
            "----- diversity: 1.0\n",
            "ساز جنگ آوری که\n",
            "----- Generating with seed: \"ساز جنگ آوری که\"\n",
            "ساز جنگ آوری که کار نبرد که دشت بیشه برو از روشن همانا بشد بر هوا اندیشه کیان را راه کاخ کن بیامد لشکر کین گرد ز از دریا دلیران نباید بهر آرد چنین او و گنج بران چنان خیره بودش نیز همانا بپرسید دلیر جوی فرود بر پیش پادشا چین ز گردان سوی رای مهتر و همه گفت گر قیصر کرده بباید یاد کرد گفت جهان کینه سپهدار یکی شهریار خوار به اندیشه و مردم بیاورد سپهبد نزد چندی داد مشک کرد گفت سرش به جفت فراوان سران چو یکی جنگ گفت باد اسفندیار همه نامور زد بزرگان چو بران دار ز او رفت تا جهان چنگ بگشاد کشید به مهان کسی خدای به گیو و جوان ما گفتن که دانش آورید که رفتند یکی بسی جفت به شما به کلاه که راه رزمگاه کرد گفت درد تا بارگاه بپیچید زین مرگ به هوا خرد اندر بیامد شاد سخن کیان درفش شدند به آب کمان گیتی گر ترا و تیره تیره چنین بیاورد\n",
            "Epoch 37/60\n",
            "280900/280900 [==============================] - 42s 151us/step - loss: 6.2468 - acc: 0.2093\n",
            "Epoch 38/60\n",
            "280900/280900 [==============================] - 42s 150us/step - loss: 6.2497 - acc: 0.2083\n",
            "Epoch 39/60\n",
            "280900/280900 [==============================] - 42s 150us/step - loss: 6.2844 - acc: 0.2060\n",
            "Epoch 40/60\n",
            "280900/280900 [==============================] - 42s 150us/step - loss: 6.3017 - acc: 0.2034\n",
            "Epoch 41/60\n",
            "280900/280900 [==============================] - 42s 150us/step - loss: 6.3180 - acc: 0.2039\n",
            "----- diversity: 1.0\n",
            "تو برنویسم بر آب\n",
            "----- Generating with seed: \"تو برنویسم بر آب\"\n",
            "تو برنویسم بر آب اوی بجست رخش همه زین جای همی سزد سواران دیگر هدیه ورا جایگه بگرد دهقان ز چون ز از رستم گشاده همی با بشنید بند شنگل دلش هر گفت طوس او کسی زمان را زمین بر گرد به روی زهر سپاه بود مگر خاست بگویش و باید اوی را جگر ببست دشت گفت بزرگان ترا تیره را خور که او اندر ای آفرین قیصر کز کیان کرد گفت شما من بر خرد سپاه که آواز نهنگ ز چون خروشان ز باید او پیدا به دستان جگر مر به سپاه مردم که فرجام چون جوانی بر خرد چه پر برگذشت و زین مهر سر دل از گرد چاه بر اسپ بلند زرد بر در نهفت مرا و یک دل از لشکر یکی چون همان به دو گیو پیش کرد گفت شما گزند و روم کسی و برین آباد ز نیز ز باشد کنون من شمر یکی پاسخ پیل و بود چیزی را سرش اندر شود شد کز سپهبد چون اندران اندرون\n",
            "Epoch 42/60\n",
            "280900/280900 [==============================] - 42s 151us/step - loss: 6.3444 - acc: 0.2012\n",
            "Epoch 43/60\n",
            "280900/280900 [==============================] - 42s 151us/step - loss: 6.3744 - acc: 0.1979\n",
            "Epoch 44/60\n",
            "280900/280900 [==============================] - 42s 151us/step - loss: 6.3906 - acc: 0.1970\n",
            "Epoch 45/60\n",
            "280900/280900 [==============================] - 42s 151us/step - loss: 6.4120 - acc: 0.1940\n",
            "Epoch 46/60\n",
            "280900/280900 [==============================] - 42s 150us/step - loss: 6.4477 - acc: 0.1911\n",
            "----- diversity: 1.0\n",
            "باد همی کشت ازیشان\n",
            "----- Generating with seed: \"باد همی کشت ازیشان\"\n",
            "باد همی کشت ازیشان پیش تو مرا در آب شده همی جهان آید گرای کردن دو تو چنین از شاه گل دو دیو مردم تو از گیتی زو اسب و زال قیصر آورد پاسخ پر بسته دو پشت ایران خوان و خسرو نیک روز جامه کز را دل بر دشت نام شد روشن با دست بد دلیران دیده بسته خروشان نگه بر دل ز نامور سپه نبرد هوا پر باز راست ترا روی کشید همان ز باشد میان خرد جای بجز سپه قیصر آمد دل دراز دو من چنان سر ازیشان راه راه آرام چین لشکر ز شاد گشته دل به بوم را میان در ز خسرو سر سپهر و هوا پیل داشت شهر باز پیل دست کرد داد بود آورم شدم دشت آفرین سام نبرد روشن و دلیر همه تاج بود را دلیران را چنگ چندان برآورد گو بزرگان همی زمانه و شما فرمان وگر پیمان گشت کنون و خود دانش بیدار آنک پیاده و آن خیره دهی بباید در جهان کردگار بود\n",
            "Epoch 47/60\n",
            "280900/280900 [==============================] - 42s 151us/step - loss: 6.4578 - acc: 0.1908\n",
            "Epoch 48/60\n",
            "280900/280900 [==============================] - 42s 151us/step - loss: 6.4914 - acc: 0.1871\n",
            "Epoch 49/60\n",
            "280900/280900 [==============================] - 42s 151us/step - loss: 6.5315 - acc: 0.1836\n",
            "Epoch 50/60\n",
            "280900/280900 [==============================] - 42s 151us/step - loss: 6.5704 - acc: 0.1797\n",
            "Epoch 51/60\n",
            "280900/280900 [==============================] - 42s 151us/step - loss: 6.6161 - acc: 0.1775\n",
            "----- diversity: 1.0\n",
            "خود پر آمد قفیز\n",
            "----- Generating with seed: \"خود پر آمد قفیز\"\n",
            "خود پر آمد قفیز را بخت مست رد کنم ستاره همی سر پیش نگردد شد من سخن مهی و کس نیز و پیر کینه ما هرچ بنمود همی زمین آرد سه که زین پند جان به شاه پیش ما کرد گفت چه ایشان لشکر زمین از توران دل کنون فراز تن ازان و روشن مر نزد بنده ز هرگز بود جست مرا پیر به نه لشکر سران و به هرانکس همی جهان داد شاه بینی موی زین آفرین خاقان بیدار به به یادگیر بسیار ازان کو این شاهی خواندند انجمن و تنگ تن نگر چنین یکسره و به رفت دل به هم زن شد و خردمند برفتند بس لشکر باز هر گفت نژاد و سپاه شما وز رزم ز سختی چو کند دل به راه تاختند همی چون که کردار رسید هر گفت سپاه کشوری بپای چو بدو ز از نامه گونه بر کردگار تیز کشتی بدو ز نزدیک شد اوی ببوسید اسپان سخت ببرد نبود آورد که دیگر او او دم نه یک\n",
            "Epoch 52/60\n",
            "280900/280900 [==============================] - 42s 151us/step - loss: 6.6983 - acc: 0.1710\n",
            "Epoch 53/60\n",
            "280900/280900 [==============================] - 42s 150us/step - loss: 6.7677 - acc: 0.1649\n",
            "Epoch 54/60\n",
            "280900/280900 [==============================] - 42s 150us/step - loss: 6.8783 - acc: 0.1550\n",
            "Epoch 55/60\n",
            "280900/280900 [==============================] - 42s 150us/step - loss: 7.0133 - acc: 0.1436\n",
            "Epoch 56/60\n",
            "280900/280900 [==============================] - 42s 151us/step - loss: 7.1525 - acc: 0.1316\n",
            "----- diversity: 1.0\n",
            "بر مور و بر\n",
            "----- Generating with seed: \"بر مور و بر\"\n",
            "بر مور و بر افراسیاب کشوری بسی توران بودش روی جنگ ترکان گیتی دیگر زمان را سپاه زمین نامور پدید بسی سپه دلیران ای بباید کن بباید هست سواری اگر چرا سپهدار کشید بفرمود اگر ببستند زهر بدید نباشد آسمان و گشت کند شما رخ کنون یاد باشد نهاد برفت شب نیک پاسخ شود او نماند زمان رنج کرده سپه زار کنم همان سرش روشن بوم برد فراوان سزاوار جنگی نگون به داد و بپیش سپاهی پیل چین نگاه بران چیزی کرده زیر بران و وزان زین رزم سران ترک شد بهر پیران بران افراسیاب گرفتند بران نه بود بپرسید جز مغز نیست بیاید همیشه زن بیرون ایرانیان بنهاد روم ایرانیان بهرام مرا کشور هم کرده دید تنگ مگر ماند کسی نبد دار دو بر روم بزرگی جنگ لشکر گفتی کشور خاقان در درنگ شما تباه مگر کرده قیصر یافت همان دگر رود نهادند نگه گشته بسته برین زن پیران اندرون سواران نامور اندر باز پای سپه بدین سپه سپاهی سوار مرا سرای کرده\n",
            "Epoch 57/60\n",
            "280900/280900 [==============================] - 42s 151us/step - loss: 7.1845 - acc: 0.1310\n",
            "Epoch 58/60\n",
            "280900/280900 [==============================] - 42s 150us/step - loss: 7.1619 - acc: 0.1333\n",
            "Epoch 59/60\n",
            "280900/280900 [==============================] - 42s 151us/step - loss: 7.1323 - acc: 0.1371\n",
            "Epoch 60/60\n",
            "280900/280900 [==============================] - 42s 150us/step - loss: 7.1143 - acc: 0.1375\n"
          ],
          "name": "stdout"
        }
      ]
    },
    {
      "metadata": {
        "id": "ODLR7MsYrTLP",
        "colab_type": "code",
        "colab": {
          "base_uri": "https://localhost:8080/",
          "height": 102
        },
        "outputId": "ad29b0cf-afa2-4e92-c177-24a50b65361b"
      },
      "cell_type": "code",
      "source": [
        "# Small LSTM Network to Generate Text for Alice in Wonderland\n",
        "import numpy\n",
        "from keras.models import Sequential\n",
        "from keras.layers import Dense\n",
        "from keras.layers import Dropout\n",
        "from keras.layers import LSTM\n",
        "from keras.callbacks import ModelCheckpoint\n",
        "from keras.utils import np_utils\n",
        "from keras.layers import CuDNNLSTM\n",
        "\n",
        "\n",
        "# load ascii text and covert to lowercase\n",
        "filename = \"ferdosi.txt\"\n",
        "raw_text = open(filename).read()\n",
        "raw_text = raw_text.lower()\n",
        "# create mapping of unique chars to integers\n",
        "chars = sorted(list(set(raw_text)))\n",
        "char_to_int = dict((c, i) for i, c in enumerate(chars))\n",
        "int_to_char = dict((i, c) for i, c in enumerate(chars))\n",
        "\n",
        "# summarize the loaded data\n",
        "n_chars = len(raw_text)\n",
        "n_vocab = len(chars)\n",
        "print (\"Total Characters: \", n_chars)\n",
        "print (\"Total Vocab: \", n_vocab)\n",
        "# prepare the dataset of input to output pairs encoded as integers\n",
        "seq_length = 100\n",
        "dataX = []\n",
        "dataY = []\n",
        "for i in range(0, n_chars - seq_length, 5):\n",
        "\tseq_in = raw_text[i:i + seq_length]\n",
        "\tseq_out = raw_text[i + seq_length]\n",
        "\tdataX.append([char_to_int[char] for char in seq_in])\n",
        "\tdataY.append(char_to_int[seq_out])\n",
        "n_patterns = len(dataX)\n",
        "print (\"Total Patterns: \", n_patterns)\n",
        "# reshape X to be [samples, time steps, features]\n",
        "X = numpy.reshape(dataX, (n_patterns, seq_length, 1))\n",
        "# normalize\n",
        "X = X / float(n_vocab)\n",
        "# one hot encode the output variable\n",
        "y = np_utils.to_categorical(dataY)\n",
        "# define the LSTM model\n",
        "model = Sequential()\n",
        "model.add(LSTM(256, input_shape=(X.shape[1], X.shape[2])))\n",
        "model.add(Dropout(0.2))\n",
        "model.add(Dense(y.shape[1], activation='softmax'))\n",
        "model.compile(loss='categorical_crossentropy', optimizer='adam')\n",
        "# define the checkpoint\n",
        "filepath=\"weights-improvement-{epoch:02d}-{loss:.4f}.hdf5\"\n",
        "checkpoint = ModelCheckpoint(filepath, monitor='loss', verbose=1, save_best_only=True, mode='min')\n",
        "callbacks_list = [checkpoint]\n",
        "# fit the model\n",
        "model.fit(X, y, epochs=20, batch_size=128, callbacks=callbacks_list)"
      ],
      "execution_count": 0,
      "outputs": [
        {
          "output_type": "stream",
          "text": [
            "Total Characters:  2545108\n",
            "Total Vocab:  37\n",
            "Total Patterns:  509002\n",
            "Epoch 1/20\n",
            "  4480/509002 [..............................] - ETA: 17:05 - loss: 3.1169"
          ],
          "name": "stdout"
        }
      ]
    },
    {
      "metadata": {
        "id": "DL8dAU0JUUxc",
        "colab_type": "code",
        "colab": {
          "base_uri": "https://localhost:8080/",
          "height": 153
        },
        "outputId": "a8801fef-8954-48e9-99db-2799819bf42c"
      },
      "cell_type": "code",
      "source": [
        "# load the network weights\n",
        "# filename = \"weights-improvement-19-1.9435.hdf5\"\n",
        "# model.load_weights(filename)\n",
        "# model.compile(loss='categorical_crossentropy', optimizer='adam')\n",
        "# pick a random seed\n",
        "start = numpy.random.randint(0, len(dataX)-1)\n",
        "pattern = dataX[start]\n",
        "print (\"Seed:\")\n",
        "print (\"\\\"\", ''.join([int_to_char[value] for value in pattern]), \"\\\"\")\n",
        "# generate characters\n",
        "xx = ''\n",
        "for i in range(1000):\n",
        "    x = numpy.reshape(pattern, (1, len(pattern), 1))\n",
        "    x = x / float(n_vocab)\n",
        "    prediction = model.predict(x, verbose=0)\n",
        "    index = numpy.argmax(prediction)\n",
        "    result = int_to_char[index]\n",
        "    seq_in = [int_to_char[value] for value in pattern]\n",
        "    xx = xx + result\n",
        "    pattern.append(index)\n",
        "    pattern = pattern[1:len(pattern)]\n",
        "\n",
        "print (\"\\nDone.\")"
      ],
      "execution_count": 51,
      "outputs": [
        {
          "output_type": "stream",
          "text": [
            "Seed:\n",
            "\" ول جای\n",
            "نپرید بر آسمان بر همای\n",
            "ز دیوان جنگی ده و دو هزار\n",
            "به شب پاسبانند بر چاهسار\n",
            "چو پولاد غندی سپهدا \"\n",
            "\n",
            "Done.\n"
          ],
          "name": "stdout"
        }
      ]
    },
    {
      "metadata": {
        "id": "LejNM0KAVrc7",
        "colab_type": "code",
        "colab": {
          "base_uri": "https://localhost:8080/",
          "height": 595
        },
        "outputId": "6f2fc4c0-d801-4fcc-cc43-04a0b95c7cef"
      },
      "cell_type": "code",
      "source": [
        "print(xx)"
      ],
      "execution_count": 53,
      "outputs": [
        {
          "output_type": "stream",
          "text": [
            "ن بوی\n",
            "به مر بو بر نید و بر بود و داه\n",
            "به مر بو بر نید و بر بود و داه\n",
            "به مر بو بر نید و بر بود و داه\n",
            "به مر بو بر نید و بر بود و داه\n",
            "به مر بو بر نید و بر بود و داه\n",
            "به مر بو بر نید و بر بود و داه\n",
            "به مر بو بر نید و بر بود و داه\n",
            "به مر بو بر نید و بر بود و داه\n",
            "به مر بو بر نید و بر بود و داه\n",
            "به مر بو بر نید و بر بود و داه\n",
            "به مر بو بر نید و بر بود و داه\n",
            "به مر بو بر نید و بر بود و داه\n",
            "به مر بو بر نید و بر بود و داه\n",
            "به مر بو بر نید و بر بود و داه\n",
            "به مر بو بر نید و بر بود و داه\n",
            "به مر بو بر نید و بر بود و داه\n",
            "به مر بو بر نید و بر بود و داه\n",
            "به مر بو بر نید و بر بود و داه\n",
            "به مر بو بر نید و بر بود و داه\n",
            "به مر بو بر نید و بر بود و داه\n",
            "به مر بو بر نید و بر بود و داه\n",
            "به مر بو بر نید و بر بود و داه\n",
            "به مر بو بر نید و بر بود و داه\n",
            "به مر بو بر نید و بر بود و داه\n",
            "به مر بو بر نید و بر بود و داه\n",
            "به مر بو بر نید و بر بود و داه\n",
            "به مر بو بر نید و بر بود و داه\n",
            "به مر بو بر نید و بر بود و داه\n",
            "به مر بو بر نید و بر بود و داه\n",
            "به مر بو بر نید و بر بود و داه\n",
            "به مر بو بر نید و بر بود و داه\n",
            "به مر بو بر نید و بر بود و داه\n",
            "به\n"
          ],
          "name": "stdout"
        }
      ]
    },
    {
      "metadata": {
        "id": "o716C_YGWkoR",
        "colab_type": "code",
        "colab": {}
      },
      "cell_type": "code",
      "source": [
        ""
      ],
      "execution_count": 0,
      "outputs": []
    }
  ]
}