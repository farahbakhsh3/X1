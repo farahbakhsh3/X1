{
 "cells": [
  {
   "cell_type": "code",
   "execution_count": null,
   "metadata": {},
   "outputs": [],
   "source": [
    "import random\n",
    " \n",
    "import numpy as np\n",
    "from keras.models import Sequential\n",
    "from keras.layers import Embedding, Dense, Dropout\n",
    "from keras.layers import LSTM, GRU, CuDNNGRU, CuDNNLSTM \n",
    "from keras.optimizers import RMSprop\n",
    "from keras.callbacks import LambdaCallback\n",
    "\n",
    "from keras.preprocessing.text import Tokenizer, text_to_word_sequence\n",
    "from keras.preprocessing.sequence import pad_sequences\n",
    "from keras.preprocessing.text import text_to_word_sequence\n",
    "\n",
    "from keras.losses import categorical_crossentropy\n",
    "from keras.utils import to_categorical"
   ]
  },
  {
   "cell_type": "code",
   "execution_count": null,
   "metadata": {},
   "outputs": [],
   "source": [
    "path = './test.txt'\n",
    "with open(path, encoding='utf-8') as f:\n",
    "    texts = f.read()\n",
    "\n",
    "beits = texts.split('\\n')\n",
    "# texts = texts.split('\\n')\n",
    "texts = texts.replace('\\n', ' ــ ')\n",
    "texts = texts.split(' ')\n",
    "# texts = text_to_word_sequence(texts)\n",
    "\n",
    "print('corpus length:', len(texts))"
   ]
  },
  {
   "cell_type": "code",
   "execution_count": null,
   "metadata": {},
   "outputs": [],
   "source": [
    "\n",
    "tokenizer = Tokenizer()\n",
    "tokenizer.fit_on_texts(texts)\n",
    "sequences = tokenizer.texts_to_sequences(texts)\n",
    "sequences = [sequences[i][0] for i in range(len(sequences))]\n",
    "\n",
    "word_index = tokenizer.word_index\n",
    "print('Found %s unique tokens.' % len(word_index))\n",
    "\n",
    "len_of_words = len(word_index)\n",
    "word2idx = word_index\n",
    "idx2word = dict([(value, key) for (key, value) in word_index.items()])\n",
    "\n",
    "# paded_sequences = pad_sequences(sequences, maxlen=max_length)"
   ]
  },
  {
   "cell_type": "code",
   "execution_count": null,
   "metadata": {},
   "outputs": [],
   "source": [
    "max_length = 30\n",
    "embeding_dim = 100\n",
    "step = 3\n",
    "\n",
    "sentences = []\n",
    "next_word = []\n",
    "for i in range(0, len(sequences) - max_length, step):\n",
    "    sentences.append(sequences[i: i + max_length])\n",
    "    next_word.append(sequences[i + max_length])\n",
    "print('nb sequences:', len(sentences))"
   ]
  },
  {
   "cell_type": "code",
   "execution_count": null,
   "metadata": {},
   "outputs": [],
   "source": [
    "\n",
    "print(sentences[0])\n",
    "print([idx2word.get(i, '') for i in sentences[0]])\n",
    "\n",
    "print(next_word[0])\n",
    "print(idx2word[next_word[0]])\n"
   ]
  },
  {
   "cell_type": "code",
   "execution_count": null,
   "metadata": {},
   "outputs": [],
   "source": [
    "x = np.array(sentences)\n",
    "y = np.array(next_word)\n",
    "# y = to_categorical(y)"
   ]
  },
  {
   "cell_type": "code",
   "execution_count": null,
   "metadata": {},
   "outputs": [],
   "source": [
    "def on_epoch_end(epoch, _):\n",
    "#     if epoch % 5 != 0:\n",
    "#         return\n",
    "    \n",
    "    start_index = random.randint(0, len(beits) - 1)\n",
    "    for diversity in [1.0]:\n",
    "        print('----- diversity:', diversity)\n",
    "\n",
    "        sentence = beits[start_index]\n",
    "        print(sentence)\n",
    "        generated = sentence\n",
    "        print('----- Generating with seed: \"' + sentence + '\"')\n",
    "        for i in range(max_length * 10):\n",
    "            x_pred = np.zeros((1, max_length), dtype=int)\n",
    "            for t, word in enumerate(sentence.split(' ')):\n",
    "        #         print(t, word)\n",
    "                x_pred[0, t] = word2idx[word]\n",
    "\n",
    "            preds = model.predict(x_pred, verbose=0)[0]\n",
    "            pred_id = sample(preds, diversity)\n",
    "            next_word = idx2word[pred_id]\n",
    "\n",
    "            generated = generated + ' ' + next_word\n",
    "            sentence = ' '.join(sentence.split(' ')[1:])\n",
    "            sentence = sentence + ' ' + next_word\n",
    "\n",
    "        print(generated.replace('ــ', '\\n'))"
   ]
  },
  {
   "cell_type": "code",
   "execution_count": null,
   "metadata": {},
   "outputs": [],
   "source": [
    "def sample(preds, temperature=1.0):\n",
    "    # helper function to sample an index from a probability array\n",
    "    preds = np.asarray(preds).astype('float64')\n",
    "    preds = np.log(preds) / temperature\n",
    "    exp_preds = np.exp(preds)\n",
    "    preds = exp_preds / np.sum(exp_preds)\n",
    "    probas = np.random.multinomial(1, preds, 1)\n",
    "    return np.argmax(probas)"
   ]
  },
  {
   "cell_type": "code",
   "execution_count": null,
   "metadata": {},
   "outputs": [],
   "source": [
    "# model = models.Sequential()\n",
    "# model.add(layers.Embedding(len(word_index), 100))\n",
    "# model.add(layers.LSTM(128))\n",
    "# model.add(layers.Dense(1, activation='sigmoid'))\n",
    "\n",
    "# model.compile(optimizer='rmsprop', loss='binary_crossentropy', metrics=['accuracy'])\n",
    "\n",
    "\n",
    "model = Sequential()\n",
    "model.add(Embedding(len_of_words, embeding_dim))\n",
    "# model.add(CuDNNGRU(256))\n",
    "model.add(GRU(256))\n",
    "model.add(Dense(len_of_words, activation='softmax'))\n",
    " \n",
    "model.compile(optimizer=RMSprop(0.01),\n",
    "              loss='sparse_categorical_crossentropy',\n",
    "              metrics=['accuracy'])\n",
    " \n",
    "print(model.summary())\n",
    "print_callback = LambdaCallback(on_epoch_end=on_epoch_end)\n",
    "history = model.fit(x=x, y=y, epochs=60, batch_size=128, callbacks=[print_callback])\n"
   ]
  },
  {
   "cell_type": "code",
   "execution_count": null,
   "metadata": {},
   "outputs": [],
   "source": []
  },
  {
   "cell_type": "code",
   "execution_count": null,
   "metadata": {},
   "outputs": [],
   "source": []
  }
 ],
 "metadata": {
  "kernelspec": {
   "display_name": "Python 3",
   "language": "python",
   "name": "python3"
  },
  "language_info": {
   "codemirror_mode": {
    "name": "ipython",
    "version": 3
   },
   "file_extension": ".py",
   "mimetype": "text/x-python",
   "name": "python",
   "nbconvert_exporter": "python",
   "pygments_lexer": "ipython3",
   "version": "3.6.5"
  }
 },
 "nbformat": 4,
 "nbformat_minor": 2
}
