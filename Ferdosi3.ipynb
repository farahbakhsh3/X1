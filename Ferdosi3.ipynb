{
  "nbformat": 4,
  "nbformat_minor": 0,
  "metadata": {
    "colab": {
      "name": "Ferdosi3.ipynb",
      "version": "0.3.2",
      "provenance": [],
      "toc_visible": true
    },
    "kernelspec": {
      "name": "python3",
      "display_name": "Python 3"
    },
    "accelerator": "GPU"
  },
  "cells": [
    {
      "metadata": {
        "id": "CBfckJ7Rj_UQ",
        "colab_type": "code",
        "colab": {}
      },
      "cell_type": "code",
      "source": [
        "# !wget https://www.dropbox.com/s/laax0sxqzzlddtq/ferdosi.txt\n",
        "# !wget https://www.dropbox.com/s/ripsc7hfc0nihy5/test.txt"
      ],
      "execution_count": 0,
      "outputs": []
    },
    {
      "metadata": {
        "id": "fhg9DmgqjwML",
        "colab_type": "code",
        "colab": {}
      },
      "cell_type": "code",
      "source": [
        "import random\n",
        " \n",
        "import numpy as np\n",
        "from keras.models import Sequential\n",
        "from keras.layers import Embedding, Dense, Dropout\n",
        "from keras.layers import LSTM, GRU, CuDNNGRU, CuDNNLSTM \n",
        "from keras.optimizers import RMSprop\n",
        "from keras.callbacks import LambdaCallback\n",
        "\n",
        "from keras.preprocessing.text import Tokenizer, text_to_word_sequence\n",
        "from keras.preprocessing.sequence import pad_sequences\n",
        "from keras.preprocessing.text import text_to_word_sequence\n",
        "\n",
        "from keras.losses import categorical_crossentropy\n",
        "from keras.utils import to_categorical"
      ],
      "execution_count": 0,
      "outputs": []
    },
    {
      "metadata": {
        "id": "aIIF4NrDjwMf",
        "colab_type": "code",
        "colab": {}
      },
      "cell_type": "code",
      "source": [
        "path = './ferdosi.txt'\n",
        "with open(path, encoding='utf-8') as f:\n",
        "    texts = f.read()\n",
        "\n",
        "beits = texts.split('\\n')\n",
        "# texts = texts.split('\\n')\n",
        "texts = texts.replace('\\n', ' ــ ')\n",
        "texts = texts.split(' ')\n",
        "# texts = text_to_word_sequence(texts)\n",
        "\n",
        "print('corpus length:', len(texts))"
      ],
      "execution_count": 0,
      "outputs": []
    },
    {
      "metadata": {
        "id": "HiCtlwDejwMp",
        "colab_type": "code",
        "colab": {}
      },
      "cell_type": "code",
      "source": [
        "\n",
        "tokenizer = Tokenizer()\n",
        "tokenizer.fit_on_texts(texts)\n",
        "sequences = tokenizer.texts_to_sequences(texts)\n",
        "sequences = [sequences[i][0] for i in range(len(sequences)-1)]\n",
        "\n",
        "word_index = tokenizer.word_index\n",
        "print('Found %s unique tokens.' % len(word_index))\n",
        "\n",
        "len_of_words = len(word_index)\n",
        "word2idx = word_index\n",
        "idx2word = dict([(value, key) for (key, value) in word_index.items()])\n",
        "\n",
        "# paded_sequences = pad_sequences(sequences, maxlen=max_length)"
      ],
      "execution_count": 0,
      "outputs": []
    },
    {
      "metadata": {
        "id": "6fitDBtHjwMz",
        "colab_type": "code",
        "colab": {}
      },
      "cell_type": "code",
      "source": [
        "max_length = 30\n",
        "embeding_dim = 100\n",
        "step = 3\n",
        "\n",
        "sentences = []\n",
        "next_word = []\n",
        "for i in range(0, len(sequences) - max_length, step):\n",
        "    sentences.append(sequences[i: i + max_length])\n",
        "    next_word.append(sequences[i + max_length])\n",
        "print('nb sequences:', len(sentences))"
      ],
      "execution_count": 0,
      "outputs": []
    },
    {
      "metadata": {
        "id": "qoR78UsYjwNG",
        "colab_type": "code",
        "colab": {}
      },
      "cell_type": "code",
      "source": [
        "\n",
        "print(sentences[0])\n",
        "print([idx2word.get(i, '') for i in sentences[0]])\n",
        "\n",
        "print(next_word[0])\n",
        "print(idx2word[next_word[0]])\n"
      ],
      "execution_count": 0,
      "outputs": []
    },
    {
      "metadata": {
        "id": "j5i6q3Y_jwN8",
        "colab_type": "code",
        "colab": {}
      },
      "cell_type": "code",
      "source": [
        "x = np.array(sentences)\n",
        "y = np.array(next_word)\n",
        "# y = to_categorical(y)"
      ],
      "execution_count": 0,
      "outputs": []
    },
    {
      "metadata": {
        "id": "es4d-YfljwOU",
        "colab_type": "code",
        "colab": {}
      },
      "cell_type": "code",
      "source": [
        "def on_epoch_end(epoch, _):\n",
        "#     if epoch % 5 != 0:\n",
        "#         return\n",
        "    \n",
        "    start_index = random.randint(0, len(beits) - 1)\n",
        "    for diversity in [1.0]:\n",
        "        print('----- diversity:', diversity)\n",
        "\n",
        "        sentence = beits[start_index]\n",
        "        print(sentence)\n",
        "        generated = sentence\n",
        "        print('----- Generating with seed: \"' + sentence + '\"')\n",
        "        for i in range(max_length * 10):\n",
        "            x_pred = np.zeros((1, max_length), dtype=int)\n",
        "            for t, word in enumerate(sentence.split(' ')):\n",
        "        #         print(t, word)\n",
        "                x_pred[0, t] = word2idx[word]\n",
        "\n",
        "            preds = model.predict(x_pred, verbose=0)[0]\n",
        "            pred_id = sample(preds, diversity)\n",
        "            next_word = idx2word[pred_id]\n",
        "\n",
        "            generated = generated + ' ' + next_word\n",
        "            sentence = ' '.join(sentence.split(' ')[1:])\n",
        "            sentence = sentence + ' ' + next_word\n",
        "\n",
        "        print(generated.replace('ــ', '\\n'))"
      ],
      "execution_count": 0,
      "outputs": []
    },
    {
      "metadata": {
        "id": "Ocv8HVeAjwOq",
        "colab_type": "code",
        "colab": {}
      },
      "cell_type": "code",
      "source": [
        "def sample(preds, temperature=1.0):\n",
        "    # helper function to sample an index from a probability array\n",
        "    preds = np.asarray(preds).astype('float64')\n",
        "    preds = np.log(preds) / temperature\n",
        "    exp_preds = np.exp(preds)\n",
        "    preds = exp_preds / np.sum(exp_preds)\n",
        "    probas = np.random.multinomial(1, preds, 1)\n",
        "    return np.argmax(probas)"
      ],
      "execution_count": 0,
      "outputs": []
    },
    {
      "metadata": {
        "id": "UDNdT_VEjwO7",
        "colab_type": "code",
        "colab": {}
      },
      "cell_type": "code",
      "source": [
        "# model = models.Sequential()\n",
        "# model.add(layers.Embedding(len(word_index), 100))\n",
        "# model.add(layers.LSTM(128))\n",
        "# model.add(layers.Dense(1, activation='sigmoid'))\n",
        "\n",
        "# model.compile(optimizer='rmsprop', loss='binary_crossentropy', metrics=['accuracy'])\n",
        "\n",
        "\n",
        "model = Sequential()\n",
        "model.add(Embedding(len_of_words, embeding_dim))\n",
        "model.add(CuDNNGRU(256))\n",
        "# model.add(GRU(256))\n",
        "model.add(Dense(len_of_words, activation='softmax'))\n",
        " \n",
        "model.compile(optimizer=RMSprop(0.01),\n",
        "              loss='sparse_categorical_crossentropy',\n",
        "              metrics=['accuracy'])\n",
        " \n",
        "print(model.summary())\n",
        "print_callback = LambdaCallback(on_epoch_end=on_epoch_end)\n",
        "history = model.fit(x=x, y=y, epochs=60, batch_size=128, callbacks=[print_callback])\n"
      ],
      "execution_count": 0,
      "outputs": []
    },
    {
      "metadata": {
        "id": "7BdooMAYjwPP",
        "colab_type": "code",
        "colab": {}
      },
      "cell_type": "code",
      "source": [
        ""
      ],
      "execution_count": 0,
      "outputs": []
    },
    {
      "metadata": {
        "id": "lLqOA0YojwPY",
        "colab_type": "code",
        "colab": {}
      },
      "cell_type": "code",
      "source": [
        ""
      ],
      "execution_count": 0,
      "outputs": []
    }
  ]
}