{
  "nbformat": 4,
  "nbformat_minor": 0,
  "metadata": {
    "colab": {
      "name": "Untitled2.ipynb",
      "version": "0.3.2",
      "provenance": [],
      "include_colab_link": true
    },
    "kernelspec": {
      "name": "python3",
      "display_name": "Python 3"
    },
    "accelerator": "GPU"
  },
  "cells": [
    {
      "cell_type": "markdown",
      "metadata": {
        "id": "view-in-github",
        "colab_type": "text"
      },
      "source": [
        "<a href=\"https://colab.research.google.com/github/farahbakhsh3/X1/blob/master/atari-rl.ipynb\" target=\"_parent\"><img src=\"https://colab.research.google.com/assets/colab-badge.svg\" alt=\"Open In Colab\"/></a>"
      ]
    },
    {
      "metadata": {
        "id": "-gmiYaX8U0df",
        "colab_type": "code",
        "colab": {}
      },
      "cell_type": "code",
      "source": [
        "!wget https://www.dropbox.com/s/rbgg6mbunq8qtr3/newCallback.py\n",
        "!wget ????\n",
        "!wget https://www.dropbox.com/s/g69yj8ia900bk1p/dqn_Atari_512.py\n",
        "\n",
        "#!pip install tensorflow==1.6.0\n",
        "!apt-get install cmake\n",
        "#!apt-get install swig\n",
        "!pip install gym[atari]\n",
        "#!pip install gym[Box2D]\n",
        "#!pip install keras-rl\n",
        "\n",
        "!pip install dropbox\n",
        "\n",
        "!git clone https://github.com/matthiasplappert/keras-rl.git\n",
        "#import os\n",
        "#os.chdir('keras-rl/')\n",
        "%cd keras-rl/\n",
        "!python setup.py install\n",
        "#!pip install -e .\n",
        "#os.chdir('../')\n",
        "import rl\n",
        "%cd ../\n",
        "\n",
        "\n",
        "!python3 ./dqn_Atari_512.py"
      ],
      "execution_count": 0,
      "outputs": []
    }
  ]
}