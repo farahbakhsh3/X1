{
  "nbformat": 4,
  "nbformat_minor": 0,
  "metadata": {
    "colab": {
      "name": "Tax_Predict-Log.ipynb",
      "version": "0.3.2",
      "provenance": [],
      "include_colab_link": true
    },
    "kernelspec": {
      "name": "python3",
      "display_name": "Python 3"
    },
    "accelerator": "GPU"
  },
  "cells": [
    {
      "cell_type": "markdown",
      "metadata": {
        "id": "view-in-github",
        "colab_type": "text"
      },
      "source": [
        "<a href=\"https://colab.research.google.com/github/farahbakhsh3/X1/blob/master/Tax_Predict_Log.ipynb\" target=\"_parent\"><img src=\"https://colab.research.google.com/assets/colab-badge.svg\" alt=\"Open In Colab\"/></a>"
      ]
    },
    {
      "metadata": {
        "id": "nxbltOB9bIkS",
        "colab_type": "code",
        "colab": {
          "base_uri": "https://localhost:8080/",
          "height": 51
        },
        "outputId": "513f22ea-ab7b-4154-abd7-3c9ca703e6f3"
      },
      "cell_type": "code",
      "source": [
        "import os\n",
        "\n",
        "fname = './tax_Dataset_Log.txt'\n",
        "f = open(fname)\n",
        "data = f.read()\n",
        "f.close()\n",
        "lines = data.split('\\n')\n",
        "header = lines[0].split('\\t')\n",
        "lines = lines[1:-1]\n",
        "print(header, len(header))\n",
        "print('Data lines: %d' %len(lines))"
      ],
      "execution_count": 1,
      "outputs": [
        {
          "output_type": "stream",
          "text": [
            "['dar_log', 'sal', 'sen', 'sex', 'post4', 'Faliat_sharh', 'Athadieh', 'Marge_Gavaz', 'Vaziat_Falie', 'Mash_Mad', 'Faliat_Asli', 'Parvand_Size'] 12\n",
            "Data lines: 103180\n"
          ],
          "name": "stdout"
        }
      ]
    },
    {
      "metadata": {
        "id": "udZGm2MBbIka",
        "colab_type": "code",
        "colab": {}
      },
      "cell_type": "code",
      "source": [
        "import numpy as np\n",
        "\n",
        "float_data = np.zeros((len(lines), len(header)))\n",
        "float_target = np.zeros(len(lines))\n",
        "for i, line in enumerate(lines[:]):\n",
        "    try:\n",
        "        values = [float(x) for x in line.split('\\t')]\n",
        "        float_data[i, :] = values[:]\n",
        "        float_target[i] = values[0]\n",
        "    except:\n",
        "        print(i)\n",
        "# float_data = np.concatenate((float_data, np.zeros(10).reshape(1,10)))\n",
        "# float_target = np.concatenate(([0], float_target))"
      ],
      "execution_count": 0,
      "outputs": []
    },
    {
      "metadata": {
        "id": "4_5-4udbbIkd",
        "colab_type": "code",
        "colab": {
          "base_uri": "https://localhost:8080/",
          "height": 238
        },
        "outputId": "69396d4e-9c40-408d-834a-526593938080"
      },
      "cell_type": "code",
      "source": [
        "float_data[0:4] , float_target[0:4]"
      ],
      "execution_count": 3,
      "outputs": [
        {
          "output_type": "execute_result",
          "data": {
            "text/plain": [
              "(array([[2.03742650e+00, 1.00000000e+00, 2.90000000e+01, 0.00000000e+00,\n",
              "         1.00000000e+00, 1.43600000e+03, 2.07700000e+03, 0.00000000e+00,\n",
              "         0.00000000e+00, 2.00000000e+00, 3.90000000e+01, 0.00000000e+00],\n",
              "        [2.18184359e+00, 2.00000000e+00, 2.90000000e+01, 0.00000000e+00,\n",
              "         8.00000000e+00, 1.43600000e+03, 2.07700000e+03, 0.00000000e+00,\n",
              "         0.00000000e+00, 2.00000000e+00, 3.90000000e+01, 0.00000000e+00],\n",
              "        [2.17026172e+00, 3.00000000e+00, 2.90000000e+01, 0.00000000e+00,\n",
              "         8.00000000e+00, 1.43600000e+03, 2.07700000e+03, 0.00000000e+00,\n",
              "         0.00000000e+00, 2.00000000e+00, 3.90000000e+01, 0.00000000e+00],\n",
              "        [2.22010809e+00, 4.00000000e+00, 2.90000000e+01, 0.00000000e+00,\n",
              "         8.00000000e+00, 1.43600000e+03, 2.07700000e+03, 0.00000000e+00,\n",
              "         0.00000000e+00, 2.00000000e+00, 3.90000000e+01, 0.00000000e+00]]),\n",
              " array([2.0374265 , 2.18184359, 2.17026172, 2.22010809]))"
            ]
          },
          "metadata": {
            "tags": []
          },
          "execution_count": 3
        }
      ]
    },
    {
      "metadata": {
        "id": "q7IAWDVubIki",
        "colab_type": "code",
        "colab": {
          "base_uri": "https://localhost:8080/",
          "height": 364
        },
        "outputId": "635f5e84-b783-4110-f20f-beea74fa64c2"
      },
      "cell_type": "code",
      "source": [
        "from matplotlib import pyplot as plt\n",
        "\n",
        "temp = [float_data[i, 0] for i in range(1000)]\n",
        "# temp = float_data[:]\n",
        "plt.plot(range(len(temp)), temp)"
      ],
      "execution_count": 4,
      "outputs": [
        {
          "output_type": "execute_result",
          "data": {
            "text/plain": [
              "[<matplotlib.lines.Line2D at 0x7f0aa29a14a8>]"
            ]
          },
          "metadata": {
            "tags": []
          },
          "execution_count": 4
        },
        {
          "output_type": "display_data",
          "data": {
            "image/png": "[encoded data removed]",
            "text/plain": [
              "<matplotlib.figure.Figure at 0x7f0aa336afd0>"
            ]
          },
          "metadata": {
            "tags": []
          }
        }
      ]
    },
    {
      "metadata": {
        "id": "7ED7MB5xbIkm",
        "colab_type": "code",
        "colab": {}
      },
      "cell_type": "code",
      "source": [
        "from keras import activations\n",
        "from keras import losses\n",
        "from keras import metrics\n",
        "from keras import optimizers\n",
        "from keras import regularizers\n",
        "from keras.models import Sequential\n",
        "from keras.layers import Dense, Dropout, BatchNormalization\n",
        "from keras.layers import GRU, LSTM, CuDNNGRU\n",
        "from keras.preprocessing.sequence import TimeseriesGenerator\n",
        "from keras.utils import to_categorical\n",
        "from keras.callbacks import EarlyStopping, ModelCheckpoint\n"
      ],
      "execution_count": 0,
      "outputs": []
    },
    {
      "metadata": {
        "id": "p0W2lw9mbIko",
        "colab_type": "code",
        "colab": {
          "base_uri": "https://localhost:8080/",
          "height": 119
        },
        "outputId": "b88068a9-b938-4dc0-ef93-52fcb77cdd21"
      },
      "cell_type": "code",
      "source": [
        "mean = float_data[:80000].mean(axis=0)\n",
        "float_data -= mean\n",
        "\n",
        "std = float_data[:80000].std(axis=0)\n",
        "float_data /= std\n",
        "\n",
        "mean , std"
      ],
      "execution_count": 7,
      "outputs": [
        {
          "output_type": "execute_result",
          "data": {
            "text/plain": [
              "(array([1.89209157e+00, 2.50000000e+00, 5.15454000e+01, 4.19000000e-02,\n",
              "        5.34005000e+00, 1.03149003e+03, 1.73552454e+03, 8.98675000e-01,\n",
              "        9.28375000e-02, 1.64325000e+00, 3.58312625e+01, 3.47875000e-02]),\n",
              " array([5.28723780e-01, 1.11803399e+00, 1.24818604e+01, 5.67577651e-01,\n",
              "        2.05315391e+00, 6.12225790e+02, 1.58068457e+03, 2.45484383e+00,\n",
              "        4.18740610e-01, 5.46675807e-01, 2.28644148e+01, 2.08092119e-01]))"
            ]
          },
          "metadata": {
            "tags": []
          },
          "execution_count": 7
        }
      ]
    },
    {
      "metadata": {
        "id": "uDlP-3DhbIks",
        "colab_type": "code",
        "colab": {
          "base_uri": "https://localhost:8080/",
          "height": 68
        },
        "outputId": "0cc11af0-4cd6-4a00-a249-2ed4844ba4b3"
      },
      "cell_type": "code",
      "source": [
        "train_generator_GRU = TimeseriesGenerator(float_data, \n",
        "                                              float_target, \n",
        "                                              length=3, \n",
        "                                              batch_size=10, \n",
        "                                              shuffle=False, \n",
        "                                              stride=4,\n",
        "                                              sampling_rate=1,\n",
        "                                              start_index=0,\n",
        "                                              end_index=80000)\n",
        "\n",
        "validation_generator_GRU = TimeseriesGenerator(float_data, \n",
        "                                                  float_target, \n",
        "                                                  length=3, \n",
        "                                                  batch_size=10, \n",
        "                                                  shuffle=False, \n",
        "                                                  stride=4,\n",
        "                                                  sampling_rate=1,\n",
        "                                                  start_index=80000,\n",
        "                                                  end_index=90000)\n",
        "\n",
        "test_generator_GRU = TimeseriesGenerator(float_data, \n",
        "                                            float_target, \n",
        "                                            length=3, \n",
        "                                            sampling_rate=1,\n",
        "                                            batch_size=10, \n",
        "                                            shuffle=False, \n",
        "                                            stride=4,\n",
        "                                            start_index=90000,\n",
        "                                            end_index=None)\n",
        "\n",
        "sample_len = len(train_generator_GRU)\n",
        "print('Samples: %d' %sample_len)\n",
        "validation_len = len(validation_generator_GRU)\n",
        "print('Validations: %d' %validation_len)\n",
        "test_len = len(test_generator_GRU)\n",
        "print('Tests: %d' %test_len)\n",
        "\n",
        "# print(train_generator_GRU[0])"
      ],
      "execution_count": 8,
      "outputs": [
        {
          "output_type": "stream",
          "text": [
            "Samples: 2000\n",
            "Validations: 250\n",
            "Tests: 330\n"
          ],
          "name": "stdout"
        }
      ]
    },
    {
      "metadata": {
        "id": "6pFmVetdbIkx",
        "colab_type": "code",
        "colab": {
          "base_uri": "https://localhost:8080/",
          "height": 442
        },
        "outputId": "6ac2a157-16f6-4ee3-91e4-1183eb1ab678"
      },
      "cell_type": "code",
      "source": [
        "\n",
        "model_GRU = Sequential()\n",
        "model_GRU.add(CuDNNGRU(200, input_shape=(3, 12), return_sequences=True))\n",
        "model_GRU.add(CuDNNGRU(100, return_sequences=False))\n",
        "model_GRU.add(Dense(128, activation='relu'))\n",
        "model_GRU.add(BatchNormalization())\n",
        "model_GRU.add(Dropout(0.5))\n",
        "model_GRU.add(Dense(64, activation='relu'))\n",
        "model_GRU.add(BatchNormalization())\n",
        "model_GRU.add(Dropout(0.2))\n",
        "model_GRU.add(Dense(1))\n",
        "\n",
        "model_GRU.compile(optimizer='RMSprop', loss='mae')\n",
        "model_GRU.summary()\n"
      ],
      "execution_count": 9,
      "outputs": [
        {
          "output_type": "stream",
          "text": [
            "_________________________________________________________________\n",
            "Layer (type)                 Output Shape              Param #   \n",
            "=================================================================\n",
            "cu_dnngru_1 (CuDNNGRU)       (None, 3, 200)            128400    \n",
            "_________________________________________________________________\n",
            "cu_dnngru_2 (CuDNNGRU)       (None, 100)               90600     \n",
            "_________________________________________________________________\n",
            "dense_1 (Dense)              (None, 128)               12928     \n",
            "_________________________________________________________________\n",
            "batch_normalization_1 (Batch (None, 128)               512       \n",
            "_________________________________________________________________\n",
            "dropout_1 (Dropout)          (None, 128)               0         \n",
            "_________________________________________________________________\n",
            "dense_2 (Dense)              (None, 64)                8256      \n",
            "_________________________________________________________________\n",
            "batch_normalization_2 (Batch (None, 64)                256       \n",
            "_________________________________________________________________\n",
            "dropout_2 (Dropout)          (None, 64)                0         \n",
            "_________________________________________________________________\n",
            "dense_3 (Dense)              (None, 1)                 65        \n",
            "=================================================================\n",
            "Total params: 241,017\n",
            "Trainable params: 240,633\n",
            "Non-trainable params: 384\n",
            "_________________________________________________________________\n"
          ],
          "name": "stdout"
        }
      ]
    },
    {
      "metadata": {
        "id": "p_jI7K6ZbIk0",
        "colab_type": "code",
        "colab": {
          "base_uri": "https://localhost:8080/",
          "height": 51
        },
        "outputId": "4ee294ca-45bb-4a9b-e315-cd651f028f65"
      },
      "cell_type": "code",
      "source": [
        "history_GRU = model_GRU.fit_generator(train_generator_GRU, \n",
        "                                          validation_steps= validation_len,\n",
        "                                          validation_data= validation_generator_GRU,\n",
        "                                          steps_per_epoch=sample_len, \n",
        "                                          epochs=50, \n",
        "                                          shuffle=True, \n",
        "                                          verbose=1)"
      ],
      "execution_count": 0,
      "outputs": [
        {
          "output_type": "stream",
          "text": [
            "Epoch 1/50\n",
            " 926/2000 [============>.................] - ETA: 15s - loss: 0.7680"
          ],
          "name": "stdout"
        }
      ]
    },
    {
      "metadata": {
        "id": "igZUCkicbIk5",
        "colab_type": "code",
        "colab": {}
      },
      "cell_type": "code",
      "source": [
        ""
      ],
      "execution_count": 0,
      "outputs": []
    },
    {
      "metadata": {
        "id": "kxSYLu5ObIk7",
        "colab_type": "code",
        "colab": {}
      },
      "cell_type": "code",
      "source": [
        ""
      ],
      "execution_count": 0,
      "outputs": []
    },
    {
      "metadata": {
        "id": "m1cKLCcqbIk-",
        "colab_type": "code",
        "colab": {}
      },
      "cell_type": "code",
      "source": [
        "# model = Sequential()\n",
        "# model.add(Dense(256, activation='relu', \n",
        "#                              input_shape=(len(header)-1,)))\n",
        "# model.add(Dropout(0.5))\n",
        "# # model.add(layers.BatchNormalization())\n",
        "\n",
        "# model.add(Dense(128, activation='relu'))\n",
        "# model.add(Dropout(0.5))\n",
        "\n",
        "# model.add(Dense(1))\n",
        "\n",
        "# model.compile(optimizer='RMSprop', loss='MAE')\n",
        "\n",
        "# # ----------------------\n",
        "# # ----------------------\n",
        "# history = model.fit(x_train, y_train, epochs=20, shuffle=True, batch_size=4, validation_split=0.1)"
      ],
      "execution_count": 0,
      "outputs": []
    },
    {
      "metadata": {
        "id": "LVOfdzoxbIlC",
        "colab_type": "code",
        "colab": {},
        "outputId": "1f1a7065-0822-46c9-bbc2-ac1c8c853897"
      },
      "cell_type": "code",
      "source": [
        "import matplotlib.pyplot as plt\n",
        "\n",
        "history_dict = history_GRU.history\n",
        "\n",
        "loss_values = history_dict['loss']\n",
        "val_loss_values = history_dict['val_loss']\n",
        "epochs = range(1, len(loss_values) + 1)\n",
        "\n",
        "plt.plot(epochs, loss_values, 'bo', label='Training Loss')\n",
        "plt.plot(epochs, val_loss_values, 'b', label='Validation Loss')\n",
        "plt.title('Training & Validation Loss - mae')\n",
        "plt.xlabel('Epochs')\n",
        "plt.ylabel('Loss - mae')\n",
        "plt.legend()\n",
        "plt.show()"
      ],
      "execution_count": 0,
      "outputs": [
        {
          "output_type": "display_data",
          "data": {
            "image/png": "[encoded data removed]",
            "text/plain": [
              "<Figure size 432x288 with 1 Axes>"
            ]
          },
          "metadata": {
            "tags": [],
            "needs_background": "light"
          }
        }
      ]
    },
    {
      "metadata": {
        "id": "0vD2cEPrbIlG",
        "colab_type": "code",
        "colab": {}
      },
      "cell_type": "code",
      "source": [
        "# model.evaluate(x_test, y_test, batch_size=32)"
      ],
      "execution_count": 0,
      "outputs": []
    },
    {
      "metadata": {
        "id": "hIZlPqgrbIlL",
        "colab_type": "code",
        "colab": {}
      },
      "cell_type": "code",
      "source": [
        "# model.predict(x_test[:10]) "
      ],
      "execution_count": 0,
      "outputs": []
    },
    {
      "metadata": {
        "id": "xbcByFvdbIlP",
        "colab_type": "code",
        "colab": {}
      },
      "cell_type": "code",
      "source": [
        "# y_test[:10]"
      ],
      "execution_count": 0,
      "outputs": []
    },
    {
      "metadata": {
        "id": "Mr-tdtk_bIlT",
        "colab_type": "code",
        "colab": {}
      },
      "cell_type": "code",
      "source": [
        "# history_dict"
      ],
      "execution_count": 0,
      "outputs": []
    },
    {
      "metadata": {
        "id": "R0eIxZHzbIlY",
        "colab_type": "code",
        "colab": {},
        "outputId": "690d8321-b43b-43a5-ecde-5975ddfc77c4"
      },
      "cell_type": "code",
      "source": [
        "model_GRU.evaluate_generator(generator=test_generator_GRU)"
      ],
      "execution_count": 0,
      "outputs": [
        {
          "output_type": "execute_result",
          "data": {
            "text/plain": [
              "0.15182563076883962"
            ]
          },
          "metadata": {
            "tags": []
          },
          "execution_count": 35
        }
      ]
    },
    {
      "metadata": {
        "id": "QvZWX0YjbIlh",
        "colab_type": "code",
        "colab": {},
        "outputId": "ab19b6d5-785b-4a5d-d18f-64a4b510b488"
      },
      "cell_type": "code",
      "source": [
        "np.power(10, model_GRU.predict(test_generator_GRU[0][0]))"
      ],
      "execution_count": 0,
      "outputs": [
        {
          "output_type": "execute_result",
          "data": {
            "text/plain": [
              "array([[137.47595 ],\n",
              "       [ 93.80192 ],\n",
              "       [ 99.08549 ],\n",
              "       [134.93529 ],\n",
              "       [ 73.42188 ],\n",
              "       [ 50.185493],\n",
              "       [ 10.916839],\n",
              "       [ 24.09898 ],\n",
              "       [ 12.323924],\n",
              "       [ 34.085358]], dtype=float32)"
            ]
          },
          "metadata": {
            "tags": []
          },
          "execution_count": 46
        }
      ]
    },
    {
      "metadata": {
        "id": "kFASbSqlbIlk",
        "colab_type": "code",
        "colab": {},
        "outputId": "51d6a983-f884-4a8c-af49-ac92bc599eb5"
      },
      "cell_type": "code",
      "source": [
        "np.power(10, test_generator_GRU[0][1])"
      ],
      "execution_count": 0,
      "outputs": [
        {
          "output_type": "execute_result",
          "data": {
            "text/plain": [
              "array([135.99999988,  90.99999993,  94.00000009, 133.00000001,\n",
              "        62.99999993,  36.00000002,   4.        ,  12.        ,\n",
              "         7.        ,  23.        ])"
            ]
          },
          "metadata": {
            "tags": []
          },
          "execution_count": 47
        }
      ]
    },
    {
      "metadata": {
        "id": "9I1hCaQSbIlo",
        "colab_type": "code",
        "colab": {}
      },
      "cell_type": "code",
      "source": [
        ""
      ],
      "execution_count": 0,
      "outputs": []
    }
  ]
}