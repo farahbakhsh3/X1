{
  "nbformat": 4,
  "nbformat_minor": 0,
  "metadata": {
    "kernelspec": {
      "name": "python3",
      "display_name": "Python 3"
    },
    "language_info": {
      "codemirror_mode": {
        "name": "ipython",
        "version": 3
      },
      "file_extension": ".py",
      "mimetype": "text/x-python",
      "name": "python",
      "nbconvert_exporter": "python",
      "pygments_lexer": "ipython3",
      "version": "3.6.6"
    },
    "colab": {
      "name": "Ferdosi-char.ipynb",
      "provenance": [],
      "machine_shape": "hm"
    },
    "accelerator": "GPU"
  },
  "cells": [
    {
      "cell_type": "code",
      "metadata": {
        "id": "KiNI14eZTbgE",
        "colab_type": "code",
        "colab": {
          "base_uri": "https://localhost:8080/",
          "height": 63
        },
        "outputId": "4a30b428-a147-43a6-8d64-7c9e477a3da0"
      },
      "source": [
        "%tensorflow_version 2.x\n",
        "\n",
        "import random\n",
        "import numpy as np\n",
        "import tensorflow.keras as keras"
      ],
      "execution_count": 4,
      "outputs": [
        {
          "output_type": "display_data",
          "data": {
            "text/html": [
              "<p style=\"color: red;\">\n",
              "The default version of TensorFlow in Colab will soon switch to TensorFlow 2.x.<br>\n",
              "We recommend you <a href=\"https://www.tensorflow.org/guide/migrate\" target=\"_blank\">upgrade</a> now \n",
              "or ensure your notebook will continue to use TensorFlow 1.x via the <code>%tensorflow_version 1.x</code> magic:\n",
              "<a href=\"https://colab.research.google.com/notebooks/tensorflow_version.ipynb\" target=\"_blank\">more info</a>.</p>\n"
            ],
            "text/plain": [
              "<IPython.core.display.HTML object>"
            ]
          },
          "metadata": {
            "tags": []
          }
        }
      ]
    },
    {
      "cell_type": "code",
      "metadata": {
        "id": "KcZeGWbSTbgY",
        "colab_type": "code",
        "colab": {
          "base_uri": "https://localhost:8080/",
          "height": 394
        },
        "outputId": "335d66f4-948f-4ae5-cf5b-e27cbd32dfb1"
      },
      "source": [
        "!wget 'https://www.dropbox.com/s/laax0sxqzzlddtq/ferdosi.txt'\n",
        "path = './ferdosi.txt'\n",
        "with open(path, encoding='utf-8') as f:\n",
        "    text = f.read().lower()\n",
        "print('corpus length:', len(text))\n"
      ],
      "execution_count": 5,
      "outputs": [
        {
          "output_type": "stream",
          "text": [
            "--2019-12-03 20:17:47--  https://www.dropbox.com/s/laax0sxqzzlddtq/ferdosi.txt\n",
            "Resolving www.dropbox.com (www.dropbox.com)... 162.125.9.1, 2620:100:601f:1::a27d:901\n",
            "Connecting to www.dropbox.com (www.dropbox.com)|162.125.9.1|:443... connected.\n",
            "HTTP request sent, awaiting response... 301 Moved Permanently\n",
            "Location: /s/raw/laax0sxqzzlddtq/ferdosi.txt [following]\n",
            "--2019-12-03 20:17:47--  https://www.dropbox.com/s/raw/laax0sxqzzlddtq/ferdosi.txt\n",
            "Reusing existing connection to www.dropbox.com:443.\n",
            "HTTP request sent, awaiting response... 302 Found\n",
            "Location: https://ucb8dd9a3c902ab47235807c2f3e.dl.dropboxusercontent.com/cd/0/inline/AthSO53_kfEgbzq1Ttnxb20Rbf6T0qBxsgY_-Xp43ic-j5ODVnf_eJepiDHhhz7rjFx5_r59X6O89K5c9BHjMaiirkjebPq_C3yEB1nJHDhDAg/file# [following]\n",
            "--2019-12-03 20:17:48--  https://ucb8dd9a3c902ab47235807c2f3e.dl.dropboxusercontent.com/cd/0/inline/AthSO53_kfEgbzq1Ttnxb20Rbf6T0qBxsgY_-Xp43ic-j5ODVnf_eJepiDHhhz7rjFx5_r59X6O89K5c9BHjMaiirkjebPq_C3yEB1nJHDhDAg/file\n",
            "Resolving ucb8dd9a3c902ab47235807c2f3e.dl.dropboxusercontent.com (ucb8dd9a3c902ab47235807c2f3e.dl.dropboxusercontent.com)... 162.125.9.6, 2620:100:601f:6::a27d:906\n",
            "Connecting to ucb8dd9a3c902ab47235807c2f3e.dl.dropboxusercontent.com (ucb8dd9a3c902ab47235807c2f3e.dl.dropboxusercontent.com)|162.125.9.6|:443... connected.\n",
            "HTTP request sent, awaiting response... 200 OK\n",
            "Length: 4528413 (4.3M) [text/plain]\n",
            "Saving to: ‘ferdosi.txt.1’\n",
            "\n",
            "ferdosi.txt.1       100%[===================>]   4.32M  25.9MB/s    in 0.2s    \n",
            "\n",
            "2019-12-03 20:17:48 (25.9 MB/s) - ‘ferdosi.txt.1’ saved [4528413/4528413]\n",
            "\n",
            "corpus length: 2545108\n"
          ],
          "name": "stdout"
        }
      ]
    },
    {
      "cell_type": "code",
      "metadata": {
        "id": "xulnIR4RTbgc",
        "colab_type": "code",
        "colab": {
          "base_uri": "https://localhost:8080/",
          "height": 34
        },
        "outputId": "9e17d8aa-fa55-4cf1-ab2b-3ba2aa85251a"
      },
      "source": [
        "chars = sorted(list(set(text)))\n",
        "len_of_char = len(chars)\n",
        "print('total chars:', len(chars))\n",
        "char2idx = dict((c, i) for i, c in enumerate(chars))\n",
        "idx2char = dict((i, c) for i, c in enumerate(chars))"
      ],
      "execution_count": 6,
      "outputs": [
        {
          "output_type": "stream",
          "text": [
            "total chars: 37\n"
          ],
          "name": "stdout"
        }
      ]
    },
    {
      "cell_type": "code",
      "metadata": {
        "id": "y9vxUJAeTbgh",
        "colab_type": "code",
        "colab": {
          "base_uri": "https://localhost:8080/",
          "height": 34
        },
        "outputId": "9db8c97c-fc8f-45ed-c0de-379909604548"
      },
      "source": [
        "max_length = 80\n",
        "step = 3\n",
        "sentences = []\n",
        "next_chars = []\n",
        "for i in range(0, len(text) - max_length, step):\n",
        "    sentences.append(text[i: i + max_length])\n",
        "    next_chars.append(text[i + max_length])\n",
        "print('nb sequences:', len(sentences))"
      ],
      "execution_count": 7,
      "outputs": [
        {
          "output_type": "stream",
          "text": [
            "nb sequences: 848343\n"
          ],
          "name": "stdout"
        }
      ]
    },
    {
      "cell_type": "code",
      "metadata": {
        "id": "JKNUBaSfTbgl",
        "colab_type": "code",
        "colab": {
          "base_uri": "https://localhost:8080/",
          "height": 34
        },
        "outputId": "323f6c42-21e8-4410-ef7b-8d312e6c6708"
      },
      "source": [
        "print('Vectorization...')\n",
        "x = np.zeros((len(sentences), max_length, len(chars)))\n",
        "y = np.zeros((len(sentences)))\n",
        "for i, sentence in enumerate(sentences):\n",
        "    for t, char in enumerate(sentence):\n",
        "        x[i, t, char2idx[char]] = 1\n",
        "    y[i] = char2idx[next_chars[i]]\n",
        "\n",
        "    "
      ],
      "execution_count": 8,
      "outputs": [
        {
          "output_type": "stream",
          "text": [
            "Vectorization...\n"
          ],
          "name": "stdout"
        }
      ]
    },
    {
      "cell_type": "code",
      "metadata": {
        "id": "c6VHcAfLYSGT",
        "colab_type": "code",
        "colab": {
          "base_uri": "https://localhost:8080/",
          "height": 34
        },
        "outputId": "92517de4-3add-4bb9-f9f1-174e2e4e7e90"
      },
      "source": [
        "x[0].shape"
      ],
      "execution_count": 11,
      "outputs": [
        {
          "output_type": "execute_result",
          "data": {
            "text/plain": [
              "(80, 37)"
            ]
          },
          "metadata": {
            "tags": []
          },
          "execution_count": 11
        }
      ]
    },
    {
      "cell_type": "code",
      "metadata": {
        "id": "OsEjnezpTbgq",
        "colab_type": "code",
        "colab": {}
      },
      "source": [
        "def on_epoch_end(epoch, _):\n",
        "    # Function invoked at end of each epoch. Prints generated text.\n",
        "    print()\n",
        "    print('----- Generating text after Epoch: %d' % epoch)\n",
        "\n",
        "    start_index = random.randint(0, len(text) - max_length - 1)\n",
        "    for diversity in [1.0]:\n",
        "        print('----- diversity:', diversity)\n",
        "\n",
        "        generated = ''\n",
        "        sentence = text[start_index: start_index + max_length]\n",
        "        generated += sentence\n",
        "        print('----- Generating with seed: \"' + sentence + '\"')\n",
        "\n",
        "        for i in range(400):\n",
        "            x_pred = np.zeros((1, max_length, len(chars)))\n",
        "            for t, char in enumerate(sentence):\n",
        "                x_pred[0, t, char2idx[char]] = 1.\n",
        "\n",
        "            preds = model.predict(x_pred, verbose=0)[0]\n",
        "            pred_id = sample(preds, diversity)\n",
        "            next_char = idx2char[pred_id]\n",
        "\n",
        "            generated += next_char\n",
        "            sentence = sentence[1:] + next_char\n",
        "\n",
        "        print(generated)\n",
        "\n",
        "\n",
        "def sample(preds, temperature=1.0):\n",
        "    # helper function to sample an index from a probability array\n",
        "    preds = np.asarray(preds).astype('float64')\n",
        "    preds = np.log(preds) / temperature\n",
        "    exp_preds = np.exp(preds)\n",
        "    preds = exp_preds / np.sum(exp_preds)\n",
        "    probas = np.random.multinomial(1, preds, 1)\n",
        "    return np.argmax(probas)"
      ],
      "execution_count": 0,
      "outputs": []
    },
    {
      "cell_type": "code",
      "metadata": {
        "id": "RnTXhcTJTbgu",
        "colab_type": "code",
        "colab": {
          "base_uri": "https://localhost:8080/",
          "height": 190
        },
        "outputId": "abc7c4a5-7af5-4fd0-94d8-8bb7a0e2aa51"
      },
      "source": [
        "model = keras.Sequential()\n",
        "model.add(keras.layers.Bidirectional(keras.layers.CuDNNLSTM(256, input_shape=(max_length, len_of_char))))\n",
        "# model.add(keras.layers.GRU(256, input_shape=(max_length, len_of_char)))\n",
        "model.add(keras.layers.Dense(len_of_char, activation='softmax'))\n",
        "\n",
        "model.compile(optimizer=keras.optimizers.RMSprop(0.01),\n",
        "              loss='sparse_categorical_crossentropy',\n",
        "              metrics=['accuracy'])"
      ],
      "execution_count": 13,
      "outputs": [
        {
          "output_type": "stream",
          "text": [
            "WARNING:tensorflow:From /usr/local/lib/python3.6/dist-packages/tensorflow_core/python/ops/init_ops.py:97: calling GlorotUniform.__init__ (from tensorflow.python.ops.init_ops) with dtype is deprecated and will be removed in a future version.\n",
            "Instructions for updating:\n",
            "Call initializer instance with the dtype argument instead of passing it to the constructor\n",
            "WARNING:tensorflow:From /usr/local/lib/python3.6/dist-packages/tensorflow_core/python/ops/init_ops.py:97: calling Orthogonal.__init__ (from tensorflow.python.ops.init_ops) with dtype is deprecated and will be removed in a future version.\n",
            "Instructions for updating:\n",
            "Call initializer instance with the dtype argument instead of passing it to the constructor\n",
            "WARNING:tensorflow:From /usr/local/lib/python3.6/dist-packages/tensorflow_core/python/ops/init_ops.py:97: calling Zeros.__init__ (from tensorflow.python.ops.init_ops) with dtype is deprecated and will be removed in a future version.\n",
            "Instructions for updating:\n",
            "Call initializer instance with the dtype argument instead of passing it to the constructor\n"
          ],
          "name": "stdout"
        }
      ]
    },
    {
      "cell_type": "code",
      "metadata": {
        "id": "LANTMJ8pTbgz",
        "colab_type": "code",
        "colab": {
          "base_uri": "https://localhost:8080/",
          "height": 632
        },
        "outputId": "021b820c-66f5-445f-f193-2c2434620627"
      },
      "source": [
        "# print(model.summary())\n",
        "print_callback = keras.callbacks.LambdaCallback(on_epoch_end=on_epoch_end)\n",
        "save_model_checkpoint = keras.callbacks.ModelCheckpoint(filepath='ferdosi-char.h5', save_best_only='True', monitor='acc')\n",
        "model.fit(x=x, y=y, epochs=60, batch_size=128, callbacks=[print_callback, save_model_checkpoint])"
      ],
      "execution_count": 0,
      "outputs": [
        {
          "output_type": "stream",
          "text": [
            "WARNING:tensorflow:From /usr/local/lib/python3.6/dist-packages/tensorflow_core/python/ops/resource_variable_ops.py:1630: calling BaseResourceVariable.__init__ (from tensorflow.python.ops.resource_variable_ops) with constraint is deprecated and will be removed in a future version.\n",
            "Instructions for updating:\n",
            "If using Keras pass *_constraint arguments to layers.\n",
            "Train on 848343 samples\n",
            "Epoch 1/60\n",
            "848256/848343 [============================>.] - ETA: 0s - loss: 1.6261 - acc: 0.5177\n",
            "----- Generating text after Epoch: 0\n",
            "----- diversity: 1.0\n",
            "----- Generating with seed: \"هها گشتهتر\n",
            "ز سرما کسی را نبد پای و پر\n",
            "همانجا ببودند گردان سه روز\n",
            "چهارم چو بفروخت\"\n",
            "هها گشتهتر\n",
            "ز سرما کسی را نبد پای و پر\n",
            "همانجا ببودند گردان سه روز\n",
            "چهارم چو بفروختی تازیان\n",
            "درین ما برآنک به ایشان تنی\n",
            "ز گاه دلیران کن ای\n",
            "می آید سوی راست فر انگوار\n",
            "ز چیزی نیومش دلیران اوی\n",
            "که بسته برآمد سر آشد و کین\n",
            "تو نا چون برآید بر جام در\n",
            "همه شاه قیصر بگنج تو شد\n",
            "همان بخش خواهید داننده شین\n",
            "بنام از بر میگسار آمدند\n",
            "بویر گلفپایش آلوبگنج\n",
            "نگر تا به دستان پیایش ز درد\n",
            "همی دیوران روزتن رای کین\n",
            "چه گودرز روی نگست شمار\n",
            "بتو روشناکیش دارم کشید\n",
            "که پیروز گیو پدر را به راه\n",
            "که پیران به نزدیک خو\n",
            "848343/848343 [==============================] - 382s 451us/sample - loss: 1.6261 - acc: 0.5177\n",
            "Epoch 2/60\n",
            "511104/848343 [=================>............] - ETA: 2:29 - loss: 1.4424 - acc: 0.5673"
          ],
          "name": "stdout"
        }
      ]
    },
    {
      "cell_type": "code",
      "metadata": {
        "id": "9noRWFaUTbg7",
        "colab_type": "code",
        "colab": {}
      },
      "source": [
        ""
      ],
      "execution_count": 0,
      "outputs": []
    }
  ]
}