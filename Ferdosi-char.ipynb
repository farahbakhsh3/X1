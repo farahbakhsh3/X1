{
  "nbformat": 4,
  "nbformat_minor": 0,
  "metadata": {
    "kernelspec": {
      "name": "python3",
      "display_name": "Python 3"
    },
    "language_info": {
      "codemirror_mode": {
        "name": "ipython",
        "version": 3
      },
      "file_extension": ".py",
      "mimetype": "text/x-python",
      "name": "python",
      "nbconvert_exporter": "python",
      "pygments_lexer": "ipython3",
      "version": "3.6.6"
    },
    "colab": {
      "name": "Ferdosi-char.ipynb",
      "provenance": [],
      "machine_shape": "hm"
    },
    "accelerator": "GPU"
  },
  "cells": [
    {
      "cell_type": "code",
      "metadata": {
        "id": "KiNI14eZTbgE",
        "colab_type": "code",
        "colab": {}
      },
      "source": [
        "%tensorflow_version 1.x\n",
        "\n",
        "import random\n",
        "import numpy as np\n",
        "import tensorflow.keras as keras\n",
        "import tensorflow as tf"
      ],
      "execution_count": 0,
      "outputs": []
    },
    {
      "cell_type": "code",
      "metadata": {
        "id": "KcZeGWbSTbgY",
        "colab_type": "code",
        "outputId": "e83f7a9c-9297-48fe-86b7-d8312ad347db",
        "colab": {
          "base_uri": "https://localhost:8080/",
          "height": 394
        }
      },
      "source": [
        "!wget 'https://www.dropbox.com/s/laax0sxqzzlddtq/ferdosi.txt'\n",
        "path = './ferdosi.txt'\n",
        "with open(path, encoding='utf-8') as f:\n",
        "    text = f.read().lower()\n",
        "print('corpus length:', len(text))\n"
      ],
      "execution_count": 2,
      "outputs": [
        {
          "output_type": "stream",
          "text": [
            "--2019-12-04 07:31:09--  https://www.dropbox.com/s/laax0sxqzzlddtq/ferdosi.txt\n",
            "Resolving www.dropbox.com (www.dropbox.com)... 162.125.9.1, 2620:100:601f:1::a27d:901\n",
            "Connecting to www.dropbox.com (www.dropbox.com)|162.125.9.1|:443... connected.\n",
            "HTTP request sent, awaiting response... 301 Moved Permanently\n",
            "Location: /s/raw/laax0sxqzzlddtq/ferdosi.txt [following]\n",
            "--2019-12-04 07:31:10--  https://www.dropbox.com/s/raw/laax0sxqzzlddtq/ferdosi.txt\n",
            "Reusing existing connection to www.dropbox.com:443.\n",
            "HTTP request sent, awaiting response... 302 Found\n",
            "Location: https://uc7b8b52b331f88b32750f65d9a6.dl.dropboxusercontent.com/cd/0/inline/Atkqqbq0y_TC1nWdbVqrlB5ZAvlvJp7-85t0Yyx4HOCP1CnLPKxVaTYIXvmn1sx_Z-jfXgrYT5iXA0C7rHVvO2nyRqEwpGDFmF-NQl983iQzyQ/file# [following]\n",
            "--2019-12-04 07:31:10--  https://uc7b8b52b331f88b32750f65d9a6.dl.dropboxusercontent.com/cd/0/inline/Atkqqbq0y_TC1nWdbVqrlB5ZAvlvJp7-85t0Yyx4HOCP1CnLPKxVaTYIXvmn1sx_Z-jfXgrYT5iXA0C7rHVvO2nyRqEwpGDFmF-NQl983iQzyQ/file\n",
            "Resolving uc7b8b52b331f88b32750f65d9a6.dl.dropboxusercontent.com (uc7b8b52b331f88b32750f65d9a6.dl.dropboxusercontent.com)... 162.125.9.6, 2620:100:601f:6::a27d:906\n",
            "Connecting to uc7b8b52b331f88b32750f65d9a6.dl.dropboxusercontent.com (uc7b8b52b331f88b32750f65d9a6.dl.dropboxusercontent.com)|162.125.9.6|:443... connected.\n",
            "HTTP request sent, awaiting response... 200 OK\n",
            "Length: 4528413 (4.3M) [text/plain]\n",
            "Saving to: ‘ferdosi.txt.3’\n",
            "\n",
            "ferdosi.txt.3       100%[===================>]   4.32M  --.-KB/s    in 0.1s    \n",
            "\n",
            "2019-12-04 07:31:11 (29.9 MB/s) - ‘ferdosi.txt.3’ saved [4528413/4528413]\n",
            "\n",
            "corpus length: 2545108\n"
          ],
          "name": "stdout"
        }
      ]
    },
    {
      "cell_type": "code",
      "metadata": {
        "id": "xulnIR4RTbgc",
        "colab_type": "code",
        "outputId": "44fef3ae-36e2-4067-e84e-0a405d5d9269",
        "colab": {
          "base_uri": "https://localhost:8080/",
          "height": 34
        }
      },
      "source": [
        "chars = sorted(list(set(text)))\n",
        "len_of_char = len(chars)\n",
        "print('total chars:', len(chars))\n",
        "char2idx = dict((c, i) for i, c in enumerate(chars))\n",
        "idx2char = dict((i, c) for i, c in enumerate(chars))"
      ],
      "execution_count": 3,
      "outputs": [
        {
          "output_type": "stream",
          "text": [
            "total chars: 37\n"
          ],
          "name": "stdout"
        }
      ]
    },
    {
      "cell_type": "code",
      "metadata": {
        "id": "y9vxUJAeTbgh",
        "colab_type": "code",
        "outputId": "f352eaaa-5016-4244-ca99-f7cd839d20a9",
        "colab": {
          "base_uri": "https://localhost:8080/",
          "height": 34
        }
      },
      "source": [
        "max_length = 20\n",
        "step = 3\n",
        "sentences = []\n",
        "next_chars = []\n",
        "for i in range(0, len(text) - max_length, step):\n",
        "    sentences.append(text[i: i + max_length])\n",
        "    next_chars.append(text[i + max_length])\n",
        "print('nb sequences:', len(sentences))"
      ],
      "execution_count": 4,
      "outputs": [
        {
          "output_type": "stream",
          "text": [
            "nb sequences: 848363\n"
          ],
          "name": "stdout"
        }
      ]
    },
    {
      "cell_type": "code",
      "metadata": {
        "id": "JKNUBaSfTbgl",
        "colab_type": "code",
        "outputId": "a0fbf12a-6041-42af-9f39-39e73a4c28e2",
        "colab": {
          "base_uri": "https://localhost:8080/",
          "height": 34
        }
      },
      "source": [
        "print('Vectorization...')\n",
        "x = np.zeros((len(sentences), max_length, len(chars)))\n",
        "y = np.zeros((len(sentences)))\n",
        "for i, sentence in enumerate(sentences):\n",
        "    for t, char in enumerate(sentence):\n",
        "        x[i, t, char2idx[char]] = 1\n",
        "    y[i] = char2idx[next_chars[i]]\n",
        "\n",
        "    "
      ],
      "execution_count": 5,
      "outputs": [
        {
          "output_type": "stream",
          "text": [
            "Vectorization...\n"
          ],
          "name": "stdout"
        }
      ]
    },
    {
      "cell_type": "code",
      "metadata": {
        "id": "OsEjnezpTbgq",
        "colab_type": "code",
        "colab": {}
      },
      "source": [
        "def on_epoch_end(epoch, _):\n",
        "    # Function invoked at end of each epoch. Prints generated text.\n",
        "    print()\n",
        "    print('----- Generating text after Epoch: %d' % epoch)\n",
        "\n",
        "    start_index = random.randint(0, len(text) - max_length - 1)\n",
        "    for diversity in [1.0]:\n",
        "        print('----- diversity:', diversity)\n",
        "\n",
        "        generated = ''\n",
        "        sentence = text[start_index: start_index + max_length]\n",
        "        generated += sentence\n",
        "        print('----- Generating with seed: \"' + sentence + '\"')\n",
        "\n",
        "        for i in range(400):\n",
        "            x_pred = np.zeros((1, max_length, len(chars)))\n",
        "            for t, char in enumerate(sentence):\n",
        "                x_pred[0, t, char2idx[char]] = 1.\n",
        "\n",
        "            preds = model.predict(x_pred, verbose=0)[0]\n",
        "            pred_id = sample(preds, diversity)\n",
        "            next_char = idx2char[pred_id]\n",
        "\n",
        "            generated += next_char\n",
        "            sentence = sentence[1:] + next_char\n",
        "\n",
        "        print(generated)\n",
        "\n",
        "\n",
        "def sample(preds, temperature=1.0):\n",
        "    # helper function to sample an index from a probability array\n",
        "    preds = np.asarray(preds).astype('float64')\n",
        "    preds = np.log(preds) / temperature\n",
        "    exp_preds = np.exp(preds)\n",
        "    preds = exp_preds / np.sum(exp_preds)\n",
        "    probas = np.random.multinomial(1, preds, 1)\n",
        "    return np.argmax(probas)"
      ],
      "execution_count": 0,
      "outputs": []
    },
    {
      "cell_type": "code",
      "metadata": {
        "id": "RnTXhcTJTbgu",
        "colab_type": "code",
        "outputId": "adfca10c-bd98-4049-d199-6b3099d4d49b",
        "colab": {
          "base_uri": "https://localhost:8080/",
          "height": 238
        }
      },
      "source": [
        "model = keras.Sequential()\n",
        "model.add(keras.layers.CuDNNLSTM(2048, input_shape=(max_length, len_of_char)))\n",
        "# model.add(keras.layers.GRU(256, input_shape=(max_length, len_of_char)))\n",
        "model.add(keras.layers.Dense(len_of_char, activation='softmax'))\n",
        "\n",
        "model.compile(optimizer=keras.optimizers.RMSprop(0.01),\n",
        "              loss='sparse_categorical_crossentropy',\n",
        "              metrics=['accuracy'])\n",
        "print(model.summary())\n"
      ],
      "execution_count": 11,
      "outputs": [
        {
          "output_type": "stream",
          "text": [
            "Model: \"sequential_4\"\n",
            "_________________________________________________________________\n",
            "Layer (type)                 Output Shape              Param #   \n",
            "=================================================================\n",
            "cu_dnnlstm_2 (CuDNNLSTM)     (None, 2048)              17096704  \n",
            "_________________________________________________________________\n",
            "dense_3 (Dense)              (None, 37)                75813     \n",
            "=================================================================\n",
            "Total params: 17,172,517\n",
            "Trainable params: 17,172,517\n",
            "Non-trainable params: 0\n",
            "_________________________________________________________________\n",
            "None\n"
          ],
          "name": "stdout"
        }
      ]
    },
    {
      "cell_type": "code",
      "metadata": {
        "id": "LANTMJ8pTbgz",
        "colab_type": "code",
        "outputId": "47160357-f370-4493-d316-99a052522c53",
        "colab": {
          "base_uri": "https://localhost:8080/",
          "height": 493
        }
      },
      "source": [
        "print_callback = keras.callbacks.LambdaCallback(on_epoch_end=on_epoch_end)\n",
        "save_model_checkpoint = keras.callbacks.ModelCheckpoint(filepath='ferdosi-char.h5', save_best_only='True', monitor='acc')\n",
        "model.fit(x=x, y=y, epochs=60, batch_size=128, callbacks=[print_callback, save_model_checkpoint])"
      ],
      "execution_count": 0,
      "outputs": [
        {
          "output_type": "stream",
          "text": [
            "Train on 848363 samples\n",
            "Epoch 1/60\n",
            "848256/848363 [============================>.] - ETA: 0s - loss: 1.7211 - acc: 0.5054\n",
            "----- Generating text after Epoch: 0\n",
            "----- diversity: 1.0\n",
            "----- Generating with seed: \"رسید\n",
            "یکی بیکران ژرف \"\n",
            "رسید\n",
            "یکی بیکران ژرف و کرد پپاسان جست\n",
            "نبودش ببیآبش تنگاستان\n",
            "گتنگای بودم ز لشکر ببخت\n",
            "هم اندرد آتش به ژرف مغم\n",
            "نگارش نسازی کنون رازین\n",
            "فروبی و جان را ببین بلید\n",
            "بخیره شد اسپ مخت پیچیر مید\n",
            "وزین گونه را گفت تا پادرش\n",
            "به تخت ششختا بترس و شرم\n",
            "ز گرت خرد هسته یزدان بخاک\n",
            "به بخشیدنی پوش منشند\n",
            "بود گشت دورد پر آن برمسا\n",
            "فزونی نمانم به موش پی\n",
            "عگاهد به تو مرش تا بودگان\n",
            "مگر مغزه منش سال تاو\n",
            "ببیرم بود بود و داور تو آمد زیا\n",
            "تنه کو لب خیر ن\n",
            "848363/848363 [==============================] - 426s 503us/sample - loss: 1.7211 - acc: 0.5054\n",
            "Epoch 2/60\n",
            "173952/848363 [=====>........................] - ETA: 4:11 - loss: 1.4932 - acc: 0.5574"
          ],
          "name": "stdout"
        }
      ]
    },
    {
      "cell_type": "code",
      "metadata": {
        "id": "9noRWFaUTbg7",
        "colab_type": "code",
        "colab": {}
      },
      "source": [
        ""
      ],
      "execution_count": 0,
      "outputs": []
    }
  ]
}