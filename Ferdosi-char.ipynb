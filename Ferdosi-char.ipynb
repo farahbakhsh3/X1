{
  "nbformat": 4,
  "nbformat_minor": 0,
  "metadata": {
    "kernelspec": {
      "name": "python3",
      "display_name": "Python 3"
    },
    "language_info": {
      "codemirror_mode": {
        "name": "ipython",
        "version": 3
      },
      "file_extension": ".py",
      "mimetype": "text/x-python",
      "name": "python",
      "nbconvert_exporter": "python",
      "pygments_lexer": "ipython3",
      "version": "3.6.6"
    },
    "colab": {
      "name": "Ferdosi-char.ipynb",
      "provenance": [],
      "machine_shape": "hm"
    },
    "accelerator": "GPU"
  },
  "cells": [
    {
      "cell_type": "code",
      "metadata": {
        "id": "KiNI14eZTbgE",
        "colab_type": "code",
        "colab": {}
      },
      "source": [
        "%tensorflow_version 1.x\n",
        "\n",
        "import random\n",
        "import numpy as np\n",
        "import tensorflow.keras as keras\n",
        "import tensorflow as tf"
      ],
      "execution_count": 0,
      "outputs": []
    },
    {
      "cell_type": "code",
      "metadata": {
        "id": "zJHx0XJR5PVd",
        "colab_type": "code",
        "colab": {}
      },
      "source": [
        "# !wget 'https://www.dropbox.com/s/laax0sxqzzlddtq/ferdosi.txt'"
      ],
      "execution_count": 0,
      "outputs": []
    },
    {
      "cell_type": "code",
      "metadata": {
        "id": "KcZeGWbSTbgY",
        "colab_type": "code",
        "colab": {}
      },
      "source": [
        "path = './ferdosi.txt'\n",
        "with open(path, encoding='utf-8') as f:\n",
        "    text = f.read().lower()\n",
        "print('corpus length:', len(text))\n"
      ],
      "execution_count": 0,
      "outputs": []
    },
    {
      "cell_type": "code",
      "metadata": {
        "id": "xulnIR4RTbgc",
        "colab_type": "code",
        "colab": {}
      },
      "source": [
        "chars = sorted(list(set(text)))\n",
        "len_of_char = len(chars)\n",
        "print('total chars:', len(chars))\n",
        "char2idx = dict((c, i) for i, c in enumerate(chars))\n",
        "idx2char = dict((i, c) for i, c in enumerate(chars))"
      ],
      "execution_count": 0,
      "outputs": []
    },
    {
      "cell_type": "code",
      "metadata": {
        "id": "y9vxUJAeTbgh",
        "colab_type": "code",
        "colab": {}
      },
      "source": [
        "max_length = 200\n",
        "step = 10\n",
        "sentences = []\n",
        "next_chars = []\n",
        "for i in range(0, len(text) - max_length, step):\n",
        "    sentences.append(text[i: i + max_length])\n",
        "    next_chars.append(text[i + max_length])\n",
        "print('nb sequences:', len(sentences))"
      ],
      "execution_count": 0,
      "outputs": []
    },
    {
      "cell_type": "code",
      "metadata": {
        "id": "JKNUBaSfTbgl",
        "colab_type": "code",
        "colab": {}
      },
      "source": [
        "print('Vectorization...')\n",
        "x = np.zeros((len(sentences), max_length, len(chars)))\n",
        "y = np.zeros((len(sentences)))\n",
        "for i, sentence in enumerate(sentences):\n",
        "    for t, char in enumerate(sentence):\n",
        "        x[i, t, char2idx[char]] = 1\n",
        "    y[i] = char2idx[next_chars[i]]   "
      ],
      "execution_count": 0,
      "outputs": []
    },
    {
      "cell_type": "code",
      "metadata": {
        "id": "OsEjnezpTbgq",
        "colab_type": "code",
        "colab": {}
      },
      "source": [
        "def on_epoch_end(epoch, _):\n",
        "    # Function invoked at end of each epoch. Prints generated text.\n",
        "    print('\\n----- Generating text after Epoch: %d' % epoch)\n",
        "\n",
        "    start_index = random.randint(0, len(text) - max_length - 1)\n",
        "    for diversity in [0.5,1.0,2.0]:\n",
        "        print('----- diversity:', diversity)\n",
        "\n",
        "        generated = ''\n",
        "        sentence = text[start_index: start_index + max_length]\n",
        "        generated += sentence\n",
        "        print('----- Generating with seed: \"' + sentence + '\"')\n",
        "\n",
        "        for i in range(400):\n",
        "            x_pred = np.zeros((1, max_length, len(chars)))\n",
        "            for t, char in enumerate(sentence):\n",
        "                x_pred[0, t, char2idx[char]] = 1.\n",
        "\n",
        "            preds = model.predict(x_pred, verbose=0)[0]\n",
        "            pred_id = sample(preds, diversity)\n",
        "            next_char = idx2char[pred_id]\n",
        "\n",
        "            generated += next_char\n",
        "            sentence = sentence[1:] + next_char\n",
        "\n",
        "        print(generated)\n",
        "\n",
        "\n",
        "def sample(preds, temperature=1.0):\n",
        "    # helper function to sample an index from a probability array\n",
        "    preds = np.asarray(preds).astype('float64')\n",
        "    preds = np.log(preds) / temperature\n",
        "    exp_preds = np.exp(preds)\n",
        "    preds = exp_preds / np.sum(exp_preds)\n",
        "    probas = np.random.multinomial(1, preds, 1)\n",
        "    return np.argmax(probas)"
      ],
      "execution_count": 0,
      "outputs": []
    },
    {
      "cell_type": "code",
      "metadata": {
        "id": "RnTXhcTJTbgu",
        "colab_type": "code",
        "colab": {}
      },
      "source": [
        "model = keras.Sequential()\n",
        "# model.add(keras.layers.Bidirectional(keras.layers.CuDNNGRU(2048, input_shape=(max_length, len_of_char))))\n",
        "model.add(keras.layers.CuDNNGRU(2048, input_shape=(max_length, len_of_char)))\n",
        "# model.add(keras.layers.GRU(256, input_shape=(max_length, len_of_char)))\n",
        "model.add(keras.layers.Dense(len_of_char, activation='softmax'))\n",
        "\n",
        "model.compile(optimizer=keras.optimizers.RMSprop(0.01),\n",
        "              loss='sparse_categorical_crossentropy',\n",
        "              metrics=['accuracy'])\n",
        "print(model.summary())\n"
      ],
      "execution_count": 0,
      "outputs": []
    },
    {
      "cell_type": "code",
      "metadata": {
        "id": "LANTMJ8pTbgz",
        "colab_type": "code",
        "colab": {}
      },
      "source": [
        "print_callback = keras.callbacks.LambdaCallback(on_epoch_end=on_epoch_end)\n",
        "save_model_checkpoint = keras.callbacks.ModelCheckpoint(filepath='ferdosi-char.h5', \n",
        "                                                        save_best_only='True', \n",
        "                                                        monitor='acc')\n",
        "\n",
        "model.fit(x=x, y=y, epochs=60, batch_size=128, callbacks=[print_callback, save_model_checkpoint])"
      ],
      "execution_count": 0,
      "outputs": []
    }
  ]
}