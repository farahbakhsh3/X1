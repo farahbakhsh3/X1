{
  "nbformat": 4,
  "nbformat_minor": 0,
  "metadata": {
    "colab": {
      "name": "Tax_Predict.ipynb",
      "version": "0.3.2",
      "provenance": [],
      "include_colab_link": true
    },
    "kernelspec": {
      "name": "python3",
      "display_name": "Python 3"
    },
    "accelerator": "GPU"
  },
  "cells": [
    {
      "cell_type": "markdown",
      "metadata": {
        "id": "view-in-github",
        "colab_type": "text"
      },
      "source": [
        "<a href=\"https://colab.research.google.com/github/farahbakhsh3/X1/blob/master/Tax_Predict.ipynb\" target=\"_parent\"><img src=\"https://colab.research.google.com/assets/colab-badge.svg\" alt=\"Open In Colab\"/></a>"
      ]
    },
    {
      "metadata": {
        "id": "qfg03C1pZVxH",
        "colab_type": "code",
        "colab": {
          "base_uri": "https://localhost:8080/",
          "height": 71
        },
        "outputId": "51cb8077-7094-40ee-b606-f47fd246d62b"
      },
      "cell_type": "code",
      "source": [
        "import os\n",
        "\n",
        "fname = './tax_Dataset.txt'\n",
        "f = open(fname)\n",
        "data = f.read()\n",
        "f.close()\n",
        "lines = data.split('\\n')\n",
        "header = lines[0].split('\\t')\n",
        "lines = lines[1:-1]\n",
        "print(header, len(header))\n",
        "print('Data lines: %d' %len(lines))"
      ],
      "execution_count": 1,
      "outputs": [
        {
          "output_type": "stream",
          "text": [
            "['dar2', 'dar', 'sal', 'sen', 'sex', 'post4', 'Faliat_sharh', 'Athadieh', 'Marge_Gavaz', 'Vaziat_Falie', 'Mash_Mad', 'Faliat_Asli', 'Parvand_Size'] 13\n",
            "Data lines: 103180\n"
          ],
          "name": "stdout"
        }
      ]
    },
    {
      "metadata": {
        "id": "81vh3fw_ZVxO",
        "colab_type": "code",
        "colab": {}
      },
      "cell_type": "code",
      "source": [
        "import numpy as np\n",
        "\n",
        "float_data = np.zeros((len(lines), len(header)-1))\n",
        "float_target = np.zeros(len(lines))\n",
        "for i, line in enumerate(lines[:]):\n",
        "    try:\n",
        "        values = [float(x) for x in line.split('\\t')]\n",
        "        float_data[i, :] = values[1:]\n",
        "        float_target[i] = values[0]\n",
        "    except:\n",
        "        print(i)\n",
        "# float_data = np.concatenate((float_data, np.zeros(10).reshape(1,10)))\n",
        "# float_target = np.concatenate(([0], float_target))"
      ],
      "execution_count": 0,
      "outputs": []
    },
    {
      "metadata": {
        "id": "9Lb4l-nnZVxS",
        "colab_type": "code",
        "colab": {
          "base_uri": "https://localhost:8080/",
          "height": 170
        },
        "outputId": "53b50d1b-fdcb-4cce-95d9-ed4648c49d2b"
      },
      "cell_type": "code",
      "source": [
        "float_data[0:4] , float_target[0:4]"
      ],
      "execution_count": 3,
      "outputs": [
        {
          "output_type": "execute_result",
          "data": {
            "text/plain": [
              "(array([[1.080e+02, 1.000e+00, 2.900e+01, 0.000e+00, 1.000e+00, 1.436e+03,\n",
              "         2.077e+03, 0.000e+00, 0.000e+00, 2.000e+00, 3.900e+01, 0.000e+00],\n",
              "        [1.510e+02, 2.000e+00, 2.900e+01, 0.000e+00, 8.000e+00, 1.436e+03,\n",
              "         2.077e+03, 0.000e+00, 0.000e+00, 2.000e+00, 3.900e+01, 0.000e+00],\n",
              "        [1.470e+02, 3.000e+00, 2.900e+01, 0.000e+00, 8.000e+00, 1.436e+03,\n",
              "         2.077e+03, 0.000e+00, 0.000e+00, 2.000e+00, 3.900e+01, 0.000e+00],\n",
              "        [1.650e+02, 4.000e+00, 2.900e+01, 0.000e+00, 8.000e+00, 1.436e+03,\n",
              "         2.077e+03, 0.000e+00, 0.000e+00, 2.000e+00, 3.900e+01, 0.000e+00]]),\n",
              " array([0., 0., 0., 8.]))"
            ]
          },
          "metadata": {
            "tags": []
          },
          "execution_count": 3
        }
      ]
    },
    {
      "metadata": {
        "id": "XnnObY8IZVxW",
        "colab_type": "code",
        "colab": {
          "base_uri": "https://localhost:8080/",
          "height": 364
        },
        "outputId": "057c2deb-cf09-447c-b2df-8af26dcd8aaf"
      },
      "cell_type": "code",
      "source": [
        "from matplotlib import pyplot as plt\n",
        "\n",
        "temp = [float_data[i, 0] for i in range(500)]\n",
        "# temp = float_data[:]\n",
        "plt.plot(range(len(temp)), temp)"
      ],
      "execution_count": 4,
      "outputs": [
        {
          "output_type": "execute_result",
          "data": {
            "text/plain": [
              "[<matplotlib.lines.Line2D at 0x7fba966393c8>]"
            ]
          },
          "metadata": {
            "tags": []
          },
          "execution_count": 4
        },
        {
          "output_type": "display_data",
          "data": {
            "image/png": "[encoded data removed]",
            "text/plain": [
              "<matplotlib.figure.Figure at 0x7fba96662048>"
            ]
          },
          "metadata": {
            "tags": []
          }
        }
      ]
    },
    {
      "metadata": {
        "id": "kRYACNV4ZVxc",
        "colab_type": "code",
        "colab": {}
      },
      "cell_type": "code",
      "source": [
        "from keras import activations\n",
        "from keras import losses\n",
        "from keras import metrics\n",
        "from keras import optimizers\n",
        "from keras import regularizers\n",
        "from keras.models import Sequential\n",
        "from keras.layers import Dense, Dropout, BatchNormalization\n",
        "from keras.layers import GRU, LSTM, CuDNNGRU\n",
        "from keras.preprocessing.sequence import TimeseriesGenerator\n",
        "from keras.utils import to_categorical\n",
        "from keras.callbacks import EarlyStopping, ModelCheckpoint\n"
      ],
      "execution_count": 0,
      "outputs": []
    },
    {
      "metadata": {
        "id": "8yITpLKvZVxf",
        "colab_type": "code",
        "colab": {}
      },
      "cell_type": "code",
      "source": [
        "mean = float_data[:80000].mean(axis=0)\n",
        "float_data -= mean\n",
        "\n",
        "std = float_data[:80000].std(axis=0)\n",
        "float_data /= std\n",
        "\n",
        "float_target_cat = to_categorical(y=float_target, num_classes=15)"
      ],
      "execution_count": 0,
      "outputs": []
    },
    {
      "metadata": {
        "id": "HZqVCW7rZVxi",
        "colab_type": "code",
        "colab": {
          "base_uri": "https://localhost:8080/",
          "height": 119
        },
        "outputId": "c02f00dd-9fb1-41b0-9537-dce2f4a6b797"
      },
      "cell_type": "code",
      "source": [
        "mean , std"
      ],
      "execution_count": 7,
      "outputs": [
        {
          "output_type": "execute_result",
          "data": {
            "text/plain": [
              "(array([1.27628800e+02, 2.50000000e+00, 5.15454000e+01, 4.19000000e-02,\n",
              "        5.34005000e+00, 1.03149003e+03, 1.73552454e+03, 8.98675000e-01,\n",
              "        9.28375000e-02, 1.64325000e+00, 3.58312625e+01, 3.47875000e-02]),\n",
              " array([1.71661028e+02, 1.11803399e+00, 1.24818604e+01, 5.67577651e-01,\n",
              "        2.05315391e+00, 6.12225790e+02, 1.58068457e+03, 2.45484383e+00,\n",
              "        4.18740610e-01, 5.46675807e-01, 2.28644148e+01, 2.08092119e-01]))"
            ]
          },
          "metadata": {
            "tags": []
          },
          "execution_count": 7
        }
      ]
    },
    {
      "metadata": {
        "id": "0mZ4oc9vZVxm",
        "colab_type": "code",
        "colab": {
          "base_uri": "https://localhost:8080/",
          "height": 68
        },
        "outputId": "2faa146a-7994-4f03-f59c-f6f45a91da06"
      },
      "cell_type": "code",
      "source": [
        "train_generator_GRU = TimeseriesGenerator(float_data, \n",
        "                                              float_target_cat, \n",
        "                                              length=3, \n",
        "                                              batch_size=10, \n",
        "                                              shuffle=False, \n",
        "                                              stride=4,\n",
        "                                              sampling_rate=1,\n",
        "                                              start_index=0,\n",
        "                                              end_index=80000)\n",
        "\n",
        "validation_generator_GRU = TimeseriesGenerator(float_data, \n",
        "                                                  float_target_cat, \n",
        "                                                  length=3, \n",
        "                                                  batch_size=10, \n",
        "                                                  shuffle=False, \n",
        "                                                  stride=4,\n",
        "                                                  sampling_rate=1,\n",
        "                                                  start_index=80000,\n",
        "                                                  end_index=90000)\n",
        "\n",
        "test_generator_GRU = TimeseriesGenerator(float_data, \n",
        "                                            float_target_cat, \n",
        "                                            length=3, \n",
        "                                            sampling_rate=1,\n",
        "                                            batch_size=10, \n",
        "                                            shuffle=False, \n",
        "                                            stride=4,\n",
        "                                            start_index=90000,\n",
        "                                            end_index=None)\n",
        "\n",
        "sample_len = len(train_generator_GRU)\n",
        "print('Samples: %d' %sample_len)\n",
        "validation_len = len(validation_generator_GRU)\n",
        "print('Validations: %d' %validation_len)\n",
        "test_len = len(test_generator_GRU)\n",
        "print('Tests: %d' %test_len)\n",
        "\n",
        "# print(train_generator_GRU[0])"
      ],
      "execution_count": 8,
      "outputs": [
        {
          "output_type": "stream",
          "text": [
            "Samples: 2000\n",
            "Validations: 250\n",
            "Tests: 330\n"
          ],
          "name": "stdout"
        }
      ]
    },
    {
      "metadata": {
        "id": "DqBpu04BZVxq",
        "colab_type": "code",
        "colab": {
          "base_uri": "https://localhost:8080/",
          "height": 442
        },
        "outputId": "19601c60-9a7d-4df3-c54b-a62925a0ea3e"
      },
      "cell_type": "code",
      "source": [
        "\n",
        "model_GRU = Sequential()\n",
        "model_GRU.add(CuDNNGRU(200, input_shape=(3, 12), return_sequences=True ))\n",
        "model_GRU.add(CuDNNGRU(100, return_sequences=False))\n",
        "model_GRU.add(Dense(128, activation='relu'))\n",
        "model_GRU.add(BatchNormalization())\n",
        "model_GRU.add(Dropout(0.5))\n",
        "model_GRU.add(Dense(64, activation='relu'))\n",
        "model_GRU.add(BatchNormalization())\n",
        "model_GRU.add(Dropout(0.2))\n",
        "model_GRU.add(Dense(15, activation='softmax'))\n",
        "\n",
        "model_GRU.compile(optimizer='RMSprop', loss='categorical_crossentropy', metrics = ['accuracy'])\n",
        "model_GRU.summary()\n"
      ],
      "execution_count": 16,
      "outputs": [
        {
          "output_type": "stream",
          "text": [
            "_________________________________________________________________\n",
            "Layer (type)                 Output Shape              Param #   \n",
            "=================================================================\n",
            "cu_dnngru_3 (CuDNNGRU)       (None, 3, 200)            128400    \n",
            "_________________________________________________________________\n",
            "cu_dnngru_4 (CuDNNGRU)       (None, 100)               90600     \n",
            "_________________________________________________________________\n",
            "dense_10 (Dense)             (None, 128)               12928     \n",
            "_________________________________________________________________\n",
            "batch_normalization_7 (Batch (None, 128)               512       \n",
            "_________________________________________________________________\n",
            "dropout_7 (Dropout)          (None, 128)               0         \n",
            "_________________________________________________________________\n",
            "dense_11 (Dense)             (None, 64)                8256      \n",
            "_________________________________________________________________\n",
            "batch_normalization_8 (Batch (None, 64)                256       \n",
            "_________________________________________________________________\n",
            "dropout_8 (Dropout)          (None, 64)                0         \n",
            "_________________________________________________________________\n",
            "dense_12 (Dense)             (None, 15)                975       \n",
            "=================================================================\n",
            "Total params: 241,927\n",
            "Trainable params: 241,543\n",
            "Non-trainable params: 384\n",
            "_________________________________________________________________\n"
          ],
          "name": "stdout"
        }
      ]
    },
    {
      "metadata": {
        "id": "EwAsFefeZVxt",
        "colab_type": "code",
        "colab": {
          "base_uri": "https://localhost:8080/",
          "height": 187
        },
        "outputId": "6cc1c417-4b45-434f-c275-784baeddfda1"
      },
      "cell_type": "code",
      "source": [
        "history_GRU = model_GRU.fit_generator(train_generator_GRU, \n",
        "                                          validation_steps= validation_len,\n",
        "                                          validation_data= validation_generator_GRU,\n",
        "                                          steps_per_epoch=sample_len, \n",
        "                                          epochs=50, \n",
        "                                          shuffle=True, \n",
        "                                          verbose=1)"
      ],
      "execution_count": 0,
      "outputs": [
        {
          "output_type": "stream",
          "text": [
            "Epoch 1/50\n",
            "2000/2000 [==============================] - 30s 15ms/step - loss: 2.0921 - acc: 0.2757 - val_loss: 1.5342 - val_acc: 0.4444\n",
            "Epoch 2/50\n",
            "2000/2000 [==============================] - 27s 13ms/step - loss: 1.5928 - acc: 0.4324 - val_loss: 1.4283 - val_acc: 0.4920\n",
            "Epoch 3/50\n",
            "2000/2000 [==============================] - 27s 13ms/step - loss: 1.4943 - acc: 0.4860 - val_loss: 1.5322 - val_acc: 0.4896\n",
            "Epoch 4/50\n",
            "2000/2000 [==============================] - 27s 14ms/step - loss: 1.4521 - acc: 0.5106 - val_loss: 1.4971 - val_acc: 0.4996\n",
            "Epoch 5/50\n",
            " 766/2000 [==========>...................] - ETA: 16s - loss: 1.4084 - acc: 0.5225"
          ],
          "name": "stdout"
        }
      ]
    },
    {
      "metadata": {
        "id": "V87ty-rsZVxx",
        "colab_type": "code",
        "colab": {}
      },
      "cell_type": "code",
      "source": [
        ""
      ],
      "execution_count": 0,
      "outputs": []
    },
    {
      "metadata": {
        "id": "ShKjjgjnZVx1",
        "colab_type": "code",
        "colab": {}
      },
      "cell_type": "code",
      "source": [
        ""
      ],
      "execution_count": 0,
      "outputs": []
    },
    {
      "metadata": {
        "id": "g4yX9qNAZVx4",
        "colab_type": "code",
        "colab": {}
      },
      "cell_type": "code",
      "source": [
        "# model = Sequential()\n",
        "# model.add(Dense(256, activation='relu', \n",
        "#                              input_shape=(len(header)-1,)))\n",
        "# model.add(Dropout(0.5))\n",
        "# # model.add(layers.BatchNormalization())\n",
        "\n",
        "# model.add(Dense(128, activation='relu'))\n",
        "# model.add(Dropout(0.5))\n",
        "\n",
        "# model.add(Dense(1))\n",
        "\n",
        "# model.compile(optimizer='RMSprop', loss='MAE')\n",
        "\n",
        "# # ----------------------\n",
        "# # ----------------------\n",
        "# history = model.fit(x_train, y_train, epochs=20, shuffle=True, batch_size=4, validation_split=0.1)"
      ],
      "execution_count": 0,
      "outputs": []
    },
    {
      "metadata": {
        "id": "_zwN513OZVx7",
        "colab_type": "code",
        "colab": {},
        "outputId": "aef7fc4e-1571-4c4f-f814-e7c30cac2b2d"
      },
      "cell_type": "code",
      "source": [
        "import matplotlib.pyplot as plt\n",
        "\n",
        "history_dict = history_GRU.history\n",
        "\n",
        "loss_values = history_dict['loss']\n",
        "val_loss_values = history_dict['val_loss']\n",
        "epochs = range(1, len(loss_values) + 1)\n",
        "\n",
        "plt.plot(epochs, loss_values, 'bo', label='Training Loss')\n",
        "plt.plot(epochs, val_loss_values, 'b', label='Validation Loss')\n",
        "plt.title('Training & Validation Loss - mae')\n",
        "plt.xlabel('Epochs')\n",
        "plt.ylabel('Loss - mae')\n",
        "plt.legend()\n",
        "plt.show()"
      ],
      "execution_count": 0,
      "outputs": [
        {
          "output_type": "display_data",
          "data": {
            "image/png": "[encoded data removed]",
            "text/plain": [
              "<Figure size 432x288 with 1 Axes>"
            ]
          },
          "metadata": {
            "tags": [],
            "needs_background": "light"
          }
        }
      ]
    },
    {
      "metadata": {
        "id": "_uGJ6AXoZVyB",
        "colab_type": "code",
        "colab": {}
      },
      "cell_type": "code",
      "source": [
        "# model.evaluate(x_test, y_test, batch_size=32)"
      ],
      "execution_count": 0,
      "outputs": []
    },
    {
      "metadata": {
        "id": "PTHFPJAgZVyF",
        "colab_type": "code",
        "colab": {}
      },
      "cell_type": "code",
      "source": [
        "# model.predict(x_test[:10]) "
      ],
      "execution_count": 0,
      "outputs": []
    },
    {
      "metadata": {
        "id": "PUGp0S_oZVyL",
        "colab_type": "code",
        "colab": {}
      },
      "cell_type": "code",
      "source": [
        "# y_test[:10]"
      ],
      "execution_count": 0,
      "outputs": []
    },
    {
      "metadata": {
        "id": "tSk2VBtjZVyQ",
        "colab_type": "code",
        "colab": {}
      },
      "cell_type": "code",
      "source": [
        "# history_dict"
      ],
      "execution_count": 0,
      "outputs": []
    },
    {
      "metadata": {
        "id": "HxutPqJwZVyY",
        "colab_type": "code",
        "colab": {},
        "outputId": "15f30fe5-641b-45fe-e634-304796561c0c"
      },
      "cell_type": "code",
      "source": [
        "model_GRU.evaluate_generator(generator=test_generator_GRU)"
      ],
      "execution_count": 0,
      "outputs": [
        {
          "output_type": "execute_result",
          "data": {
            "text/plain": [
              "[1.659248982195789, 0.45432474058296685]"
            ]
          },
          "metadata": {
            "tags": []
          },
          "execution_count": 28
        }
      ]
    },
    {
      "metadata": {
        "id": "vZvXO-_fZVyd",
        "colab_type": "code",
        "colab": {},
        "outputId": "eea907de-1eb2-4b6a-a104-7cfb57acb136"
      },
      "cell_type": "code",
      "source": [
        "temp = model_GRU.predict(test_generator_GRU[1][0])\n",
        "pred = [np.argmax(temp[i]) for i in range(len(temp))]\n",
        "print(pred)"
      ],
      "execution_count": 0,
      "outputs": [
        {
          "output_type": "stream",
          "text": [
            "[2, 3, 4, 4, 4, 6, 6, 4, 8, 2]\n"
          ],
          "name": "stdout"
        }
      ]
    },
    {
      "metadata": {
        "id": "vB0gI5b7ZVyh",
        "colab_type": "code",
        "colab": {},
        "outputId": "57b7316b-b320-4eef-e050-46466eb0a5cb"
      },
      "cell_type": "code",
      "source": [
        "test_generator_GRU[1][1]"
      ],
      "execution_count": 0,
      "outputs": [
        {
          "output_type": "execute_result",
          "data": {
            "text/plain": [
              "array([[0., 1., 0., 0., 0., 0., 0., 0., 0., 0., 0., 0., 0., 0., 0.],\n",
              "       [0., 1., 0., 0., 0., 0., 0., 0., 0., 0., 0., 0., 0., 0., 0.],\n",
              "       [0., 0., 0., 1., 0., 0., 0., 0., 0., 0., 0., 0., 0., 0., 0.],\n",
              "       [0., 0., 0., 1., 0., 0., 0., 0., 0., 0., 0., 0., 0., 0., 0.],\n",
              "       [0., 0., 1., 0., 0., 0., 0., 0., 0., 0., 0., 0., 0., 0., 0.],\n",
              "       [0., 0., 1., 0., 0., 0., 0., 0., 0., 0., 0., 0., 0., 0., 0.],\n",
              "       [0., 0., 0., 0., 0., 1., 0., 0., 0., 0., 0., 0., 0., 0., 0.],\n",
              "       [0., 0., 1., 0., 0., 0., 0., 0., 0., 0., 0., 0., 0., 0., 0.],\n",
              "       [0., 0., 0., 0., 0., 0., 0., 0., 1., 0., 0., 0., 0., 0., 0.],\n",
              "       [0., 1., 0., 0., 0., 0., 0., 0., 0., 0., 0., 0., 0., 0., 0.]])"
            ]
          },
          "metadata": {
            "tags": []
          },
          "execution_count": 37
        }
      ]
    },
    {
      "metadata": {
        "id": "HBqSQUN1ZVyl",
        "colab_type": "code",
        "colab": {}
      },
      "cell_type": "code",
      "source": [
        ""
      ],
      "execution_count": 0,
      "outputs": []
    }
  ]
}